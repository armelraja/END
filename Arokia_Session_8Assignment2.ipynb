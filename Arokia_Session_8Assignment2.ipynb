{
  "nbformat": 4,
  "nbformat_minor": 0,
  "metadata": {
    "colab": {
      "name": "Arokia:Session_8Assignment2.ipynb",
      "provenance": [],
      "collapsed_sections": []
    },
    "kernelspec": {
      "display_name": "Python 3",
      "name": "python3"
    }
  },
  "cells": [
    {
      "cell_type": "code",
      "metadata": {
        "id": "xn827CxeXp6u"
      },
      "source": [
        "# References:\n",
        "#https://github.com/zhiwehu/Python-programming-exercises/blob/master/100%2B%20Python%20challenging%20programming%20exercises.txt"
      ],
      "execution_count": 1,
      "outputs": []
    },
    {
      "cell_type": "code",
      "metadata": {
        "colab": {
          "base_uri": "https://localhost:8080/"
        },
        "id": "_mj9RkWO-wyC",
        "outputId": "18147530-4459-4f11-c3a3-861b65702895"
      },
      "source": [
        "#write a program to print multiples copies of a string\n",
        "str1 = \"Bla\"\n",
        "print(str1*7)"
      ],
      "execution_count": 2,
      "outputs": [
        {
          "output_type": "stream",
          "text": [
            "BlaBlaBlaBlaBlaBlaBla\n"
          ],
          "name": "stdout"
        }
      ]
    },
    {
      "cell_type": "code",
      "metadata": {
        "colab": {
          "base_uri": "https://localhost:8080/"
        },
        "id": "FuuYTADZAP5M",
        "outputId": "171c7928-9077-4faf-fe40-21669884b06a"
      },
      "source": [
        "#write a program to print the type of a variable\n",
        "busNo = \"1019A\" \n",
        "print(type(busNo))"
      ],
      "execution_count": 3,
      "outputs": [
        {
          "output_type": "stream",
          "text": [
            "<class 'str'>\n"
          ],
          "name": "stdout"
        }
      ]
    },
    {
      "cell_type": "code",
      "metadata": {
        "colab": {
          "base_uri": "https://localhost:8080/"
        },
        "id": "mQj1jMmAAbgn",
        "outputId": "8f15b552-b610-4c7b-d75b-3432959ec393"
      },
      "source": [
        "#write a program to print list of lists\n",
        "salary = [['Band4',25000],['Band3',20000]]\n",
        "print(salary)"
      ],
      "execution_count": 4,
      "outputs": [
        {
          "output_type": "stream",
          "text": [
            "[['Band4', 25000], ['Band3', 20000]]\n"
          ],
          "name": "stdout"
        }
      ]
    },
    {
      "cell_type": "code",
      "metadata": {
        "colab": {
          "base_uri": "https://localhost:8080/"
        },
        "id": "lGF9qpP-AmE_",
        "outputId": "6334391e-4727-4a28-f15b-a251fc9f07ab"
      },
      "source": [
        "#write a program to print the last list of a list of lists\n",
        "salary = [['Band4',25000],['Band3',20000]]\n",
        "print(salary[-1])"
      ],
      "execution_count": 5,
      "outputs": [
        {
          "output_type": "stream",
          "text": [
            "['Band3', 20000]\n"
          ],
          "name": "stdout"
        }
      ]
    },
    {
      "cell_type": "code",
      "metadata": {
        "colab": {
          "base_uri": "https://localhost:8080/"
        },
        "id": "fL3-lS_AAmFJ",
        "outputId": "87d87b22-2600-4f67-eef7-9092986261ad"
      },
      "source": [
        "#write a program to print the second list in a list of lists( slice  )\n",
        "salary = [['Band4',25000],['Band3',20000]]\n",
        "print(salary[1][:])"
      ],
      "execution_count": 6,
      "outputs": [
        {
          "output_type": "stream",
          "text": [
            "['Band3', 20000]\n"
          ],
          "name": "stdout"
        }
      ]
    },
    {
      "cell_type": "code",
      "metadata": {
        "colab": {
          "base_uri": "https://localhost:8080/"
        },
        "id": "e-NWWT9yAm8f",
        "outputId": "bf3e2538-7a9c-47d5-d6e1-69b9eccad1e0"
      },
      "source": [
        "#write a program to print the replacement of a list into a list of lists\n",
        "salary = [['Band4',25000],['Band3',20000]]\n",
        "salary[1:2] = [['Band2',70000]]\n",
        "print(salary)"
      ],
      "execution_count": 7,
      "outputs": [
        {
          "output_type": "stream",
          "text": [
            "[['Band4', 25000], ['Band2', 70000]]\n"
          ],
          "name": "stdout"
        }
      ]
    },
    {
      "cell_type": "code",
      "metadata": {
        "colab": {
          "base_uri": "https://localhost:8080/"
        },
        "id": "OIPIYGUzAm8g",
        "outputId": "9957cd5f-ea3b-422b-99e2-443e39f1b3b6"
      },
      "source": [
        "#write a program to print the adding of a list into a list of lists\n",
        "salary_new = []\n",
        "salary = [['Band4',25000],['Band3',20000]]\n",
        "salary_new = salary + [['Band2',70000]]\n",
        "print(salary_new)"
      ],
      "execution_count": 8,
      "outputs": [
        {
          "output_type": "stream",
          "text": [
            "[['Band4', 25000], ['Band3', 20000], ['Band2', 70000]]\n"
          ],
          "name": "stdout"
        }
      ]
    },
    {
      "cell_type": "code",
      "metadata": {
        "colab": {
          "base_uri": "https://localhost:8080/"
        },
        "id": "3Belkf4vAm8g",
        "outputId": "d4904ac6-7f83-4864-ea2f-15f905fc7630"
      },
      "source": [
        "#write a program to print the new list by copying an existing list\n",
        "salary_new = []\n",
        "salary = [['Band4',25000],['Band3',20000]]\n",
        "salary_new = salary\n",
        "salary_new = salary_new + [['Band2',70000]]\n",
        "print(salary)\n",
        "print(salary_new)\n",
        "salary_new = []\n",
        "salary = [['Band4',25000],['Band3',20000]]\n",
        "salary_new = salary\n",
        "salary_new[0] = [['Band2',70000]]\n",
        "'''\n",
        "Changing salary_new, changes salary\n",
        "'''\n",
        "print(salary) \n",
        "print(salary_new)\n",
        "salary_new1 = []\n",
        "salary_new1 = salary.copy()\n",
        "salary_new1 = salary_new1 + [['Band2',70000]]\n",
        "print(salary)\n",
        "print(salary_new1)"
      ],
      "execution_count": 9,
      "outputs": [
        {
          "output_type": "stream",
          "text": [
            "[['Band4', 25000], ['Band3', 20000]]\n",
            "[['Band4', 25000], ['Band3', 20000], ['Band2', 70000]]\n",
            "[[['Band2', 70000]], ['Band3', 20000]]\n",
            "[[['Band2', 70000]], ['Band3', 20000]]\n",
            "[[['Band2', 70000]], ['Band3', 20000]]\n",
            "[[['Band2', 70000]], ['Band3', 20000], ['Band2', 70000]]\n"
          ],
          "name": "stdout"
        }
      ]
    },
    {
      "cell_type": "code",
      "metadata": {
        "colab": {
          "base_uri": "https://localhost:8080/"
        },
        "id": "IWgTfXGHAm8h",
        "outputId": "7075f8e0-36fd-4f0e-9600-36e0817c0dd0"
      },
      "source": [
        "#write a program to print a list in ascending order\n",
        "salary_new = []\n",
        "salary = [['Band4',25000],['Band3',20000]]\n",
        "salary_new = sorted(salary)\n",
        "print(salary)\n",
        "print(salary_new)"
      ],
      "execution_count": 10,
      "outputs": [
        {
          "output_type": "stream",
          "text": [
            "[['Band4', 25000], ['Band3', 20000]]\n",
            "[['Band3', 20000], ['Band4', 25000]]\n"
          ],
          "name": "stdout"
        }
      ]
    },
    {
      "cell_type": "code",
      "metadata": {
        "colab": {
          "base_uri": "https://localhost:8080/"
        },
        "id": "xb6j6ORcAosn",
        "outputId": "72adb29c-fbaa-46db-b631-ca31be398415"
      },
      "source": [
        "#write a program to print a list in descending order\n",
        "salary_new = []\n",
        "salary = [['Band4',25000],['Band3',20000]]\n",
        "salary_new = sorted(salary, reverse = True) #descending order\n",
        "print(salary)\n",
        "print(salary_new)"
      ],
      "execution_count": 11,
      "outputs": [
        {
          "output_type": "stream",
          "text": [
            "[['Band4', 25000], ['Band3', 20000]]\n",
            "[['Band4', 25000], ['Band3', 20000]]\n"
          ],
          "name": "stdout"
        }
      ]
    },
    {
      "cell_type": "code",
      "metadata": {
        "colab": {
          "base_uri": "https://localhost:8080/"
        },
        "id": "m8HysIuAAosn",
        "outputId": "829c903c-3cfb-438f-a1c9-14968766c3ba"
      },
      "source": [
        "#write a program to print the replacement of a character \n",
        "txt = \"Loves You\"\n",
        "print(txt.replace(\"L\",\"Jesus L\"))"
      ],
      "execution_count": 12,
      "outputs": [
        {
          "output_type": "stream",
          "text": [
            "Jesus Loves You\n"
          ],
          "name": "stdout"
        }
      ]
    },
    {
      "cell_type": "code",
      "metadata": {
        "colab": {
          "base_uri": "https://localhost:8080/"
        },
        "id": "L65EpzsSAosn",
        "outputId": "ab9499f7-76a5-41bf-992a-4c57a51fc92a"
      },
      "source": [
        "#write a program to print the occurence of a character\n",
        "txt = \"Jesus Loves You\"\n",
        "print(txt.count('e'))"
      ],
      "execution_count": 13,
      "outputs": [
        {
          "output_type": "stream",
          "text": [
            "2\n"
          ],
          "name": "stdout"
        }
      ]
    },
    {
      "cell_type": "code",
      "metadata": {
        "colab": {
          "base_uri": "https://localhost:8080/"
        },
        "id": "vbq-G7-zAoso",
        "outputId": "7e475055-6247-4253-9be7-48f9fa87cb55"
      },
      "source": [
        "#write a program to print each character of a string using for loop\n",
        "txt = \"Jesus Loves You\"\n",
        "for char in txt:\n",
        "  print(char)"
      ],
      "execution_count": 14,
      "outputs": [
        {
          "output_type": "stream",
          "text": [
            "J\n",
            "e\n",
            "s\n",
            "u\n",
            "s\n",
            " \n",
            "L\n",
            "o\n",
            "v\n",
            "e\n",
            "s\n",
            " \n",
            "Y\n",
            "o\n",
            "u\n"
          ],
          "name": "stdout"
        }
      ]
    },
    {
      "cell_type": "code",
      "metadata": {
        "colab": {
          "base_uri": "https://localhost:8080/"
        },
        "id": "wtZHJrTnAoso",
        "outputId": "f2f5a3ef-ccb1-40e7-c9c7-75b6dabf043e"
      },
      "source": [
        "#write a program to print the tokens in a given text\n",
        "txt = \"Jesus Loves You\"\n",
        "print(txt.split(\" \"))"
      ],
      "execution_count": 15,
      "outputs": [
        {
          "output_type": "stream",
          "text": [
            "['Jesus', 'Loves', 'You']\n"
          ],
          "name": "stdout"
        }
      ]
    },
    {
      "cell_type": "code",
      "metadata": {
        "colab": {
          "base_uri": "https://localhost:8080/"
        },
        "id": "cC-JpoyzAoso",
        "outputId": "8bc404f3-f3f7-446d-fe40-df3f5055567d"
      },
      "source": [
        "#write a program to print the cube of a number using list comprehension\n",
        "num = [23,32]\n",
        "print([n*n*n for n in num])"
      ],
      "execution_count": 16,
      "outputs": [
        {
          "output_type": "stream",
          "text": [
            "[12167, 32768]\n"
          ],
          "name": "stdout"
        }
      ]
    },
    {
      "cell_type": "code",
      "metadata": {
        "colab": {
          "base_uri": "https://localhost:8080/"
        },
        "id": "BbGMCPzFAoso",
        "outputId": "548a5a69-8ae9-4c5a-e8e0-de5e1bff0dfd"
      },
      "source": [
        "#write a program to print the list of tuples created from two lists using zip\n",
        "band = ['Band4','Band3']\n",
        "salary = [25000,20000]\n",
        "print(zip(band,salary))\n",
        "print(list(zip(band,salary)))"
      ],
      "execution_count": 17,
      "outputs": [
        {
          "output_type": "stream",
          "text": [
            "<zip object at 0x7f96eade1a08>\n",
            "[('Band4', 25000), ('Band3', 20000)]\n"
          ],
          "name": "stdout"
        }
      ]
    },
    {
      "cell_type": "code",
      "metadata": {
        "colab": {
          "base_uri": "https://localhost:8080/"
        },
        "id": "r_Y_mFUbnB_O",
        "outputId": "bd2ea38d-00bd-45c7-84ae-b77a919f6d6f"
      },
      "source": [
        "#write a program to print the salaries, which are greater than 20000 using list comprehension\n",
        "band = ['Band4','Band3']\n",
        "salary = [25000,20000]\n",
        "print(list((x,y) for x,y in zip(band,salary) if y > 20000))"
      ],
      "execution_count": 18,
      "outputs": [
        {
          "output_type": "stream",
          "text": [
            "[('Band4', 25000)]\n"
          ],
          "name": "stdout"
        }
      ]
    },
    {
      "cell_type": "code",
      "metadata": {
        "colab": {
          "base_uri": "https://localhost:8080/"
        },
        "id": "Yq19PR4b6Rau",
        "outputId": "1d0a1935-3199-4577-a6f0-a9749ff66b41"
      },
      "source": [
        "#write a python function to print the list of tuples from two lists using zip\n",
        "band = ['Band4','Band3']\n",
        "salary = [25000,20000]\n",
        "func = (lambda x,y:zip(x,y))\n",
        "print(list(func(band,salary)))"
      ],
      "execution_count": 19,
      "outputs": [
        {
          "output_type": "stream",
          "text": [
            "[('Band4', 25000), ('Band3', 20000)]\n"
          ],
          "name": "stdout"
        }
      ]
    },
    {
      "cell_type": "code",
      "metadata": {
        "colab": {
          "base_uri": "https://localhost:8080/"
        },
        "id": "8FiTjZxQAosp",
        "outputId": "c8c8bfbe-0818-4cf8-a3a8-c9e1d6c7306f"
      },
      "source": [
        "#write a program to print the salaries, which are greater than 20000 using filter\n",
        "salary = [25000,20000,70000]\n",
        "criteria = filter(lambda x:x>20000, salary)\n",
        "print(list(criteria))"
      ],
      "execution_count": 20,
      "outputs": [
        {
          "output_type": "stream",
          "text": [
            "[25000, 70000]\n"
          ],
          "name": "stdout"
        }
      ]
    },
    {
      "cell_type": "code",
      "metadata": {
        "colab": {
          "base_uri": "https://localhost:8080/"
        },
        "id": "qOe39xcXAq3c",
        "outputId": "53ac6d68-ddc6-422d-8c99-00fc564b7773"
      },
      "source": [
        "#write a python function to print whether a number is even using exception handling\n",
        "def message(x):\n",
        "  try:\n",
        "    if x%2==0:\n",
        "      print(\"Even Number\")\n",
        "  except:\n",
        "      print(\"Error\")\n",
        "print(message(3))"
      ],
      "execution_count": 21,
      "outputs": [
        {
          "output_type": "stream",
          "text": [
            "None\n"
          ],
          "name": "stdout"
        }
      ]
    },
    {
      "cell_type": "code",
      "metadata": {
        "colab": {
          "base_uri": "https://localhost:8080/"
        },
        "id": "qrSdq581Aq3d",
        "outputId": "3a7cf94d-cc01-4d67-d897-33ceb0cddba1"
      },
      "source": [
        "#write a program to print the TypeError while reassigning a Tuple using exception handling\n",
        "\n",
        "salary = (25000,20000,70000)\n",
        "try:\n",
        "  salary[-1]=75000\n",
        "except(TypeError):\n",
        "  print(\"'tuple' object does not support item assignment\")"
      ],
      "execution_count": 22,
      "outputs": [
        {
          "output_type": "stream",
          "text": [
            "'tuple' object does not support item assignment\n"
          ],
          "name": "stdout"
        }
      ]
    },
    {
      "cell_type": "code",
      "metadata": {
        "colab": {
          "base_uri": "https://localhost:8080/"
        },
        "id": "5EswQM7ZAq3d",
        "outputId": "030e3ade-0acc-4128-bafe-3530f6bc9768"
      },
      "source": [
        "#write a program to print whether the elements is present in a dictionary \n",
        "salary = {'Band4':25000,'Band3':20000}\n",
        "print(\"Band5\" in salary)"
      ],
      "execution_count": 23,
      "outputs": [
        {
          "output_type": "stream",
          "text": [
            "False\n"
          ],
          "name": "stdout"
        }
      ]
    },
    {
      "cell_type": "code",
      "metadata": {
        "colab": {
          "base_uri": "https://localhost:8080/"
        },
        "id": "QeK83junAq3d",
        "outputId": "4d321283-bd0a-47bc-90b4-0f3699c65f99"
      },
      "source": [
        "#write a program to print the word count of a text using Dictionary\n",
        "txt = \"Jesus Loves You  He Died For You On The Cross\"\n",
        "cnt = {}\n",
        "for x in txt.split(\" \"):\n",
        "  if x in cnt:\n",
        "    cnt[x] =cnt[x]+1\n",
        "  else:\n",
        "    cnt[x] = 1 \n",
        "print(cnt)"
      ],
      "execution_count": 24,
      "outputs": [
        {
          "output_type": "stream",
          "text": [
            "{'Jesus': 1, 'Loves': 1, 'You': 2, '': 1, 'He': 1, 'Died': 1, 'For': 1, 'On': 1, 'The': 1, 'Cross': 1}\n"
          ],
          "name": "stdout"
        }
      ]
    },
    {
      "cell_type": "code",
      "metadata": {
        "colab": {
          "base_uri": "https://localhost:8080/"
        },
        "id": "WsBv8nfWAq3d",
        "outputId": "7d65d66f-27c4-4480-a408-0c9e9de21f68"
      },
      "source": [
        "#1write a program to print the word count of a text using Dictionary\n",
        "txt = \"Jesus Loves You  He Died For You On The Cross\"\n",
        "cnt = {}\n",
        "txt = txt.lower()\n",
        "txt1 = txt.split(\" \")\n",
        "for x in txt1:\n",
        "  if x in cnt:\n",
        "    cnt[x] =cnt[x]+1\n",
        "  else:\n",
        "    cnt[x] = 1 \n",
        "print(cnt)"
      ],
      "execution_count": 25,
      "outputs": [
        {
          "output_type": "stream",
          "text": [
            "{'jesus': 1, 'loves': 1, 'you': 2, '': 1, 'he': 1, 'died': 1, 'for': 1, 'on': 1, 'the': 1, 'cross': 1}\n"
          ],
          "name": "stdout"
        }
      ]
    },
    {
      "cell_type": "code",
      "metadata": {
        "colab": {
          "base_uri": "https://localhost:8080/"
        },
        "id": "u9ZU3jivAq3e",
        "outputId": "2b651bd7-8bd0-427d-fffe-406d119f1b6f"
      },
      "source": [
        "#2write a program to print the content of a text file\n",
        "import os\n",
        "os.chdir('/content/sample_data')\n",
        "ptr = open('README.md','r')\n",
        "print(type(ptr))\n",
        "txt = ptr.read()\n",
        "print(type(txt))\n",
        "print(txt[0:100])\n",
        "for line in txt.split(\"\\n\"):\n",
        "  print(line)\n",
        "ptr.close()"
      ],
      "execution_count": 26,
      "outputs": [
        {
          "output_type": "stream",
          "text": [
            "<class '_io.TextIOWrapper'>\n",
            "<class 'str'>\n",
            "This directory includes a few sample datasets to get you started.\n",
            "\n",
            "*   `california_housing_data*.csv\n",
            "This directory includes a few sample datasets to get you started.\n",
            "\n",
            "*   `california_housing_data*.csv` is California housing data from the 1990 US\n",
            "    Census; more information is available at:\n",
            "    https://developers.google.com/machine-learning/crash-course/california-housing-data-description\n",
            "\n",
            "*   `mnist_*.csv` is a small sample of the\n",
            "    [MNIST database](https://en.wikipedia.org/wiki/MNIST_database), which is\n",
            "    described at: http://yann.lecun.com/exdb/mnist/\n",
            "\n",
            "*   `anscombe.json` contains a copy of\n",
            "    [Anscombe's quartet](https://en.wikipedia.org/wiki/Anscombe%27s_quartet); it\n",
            "    was originally described in\n",
            "\n",
            "    Anscombe, F. J. (1973). 'Graphs in Statistical Analysis'. American\n",
            "    Statistician. 27 (1): 17-21. JSTOR 2682899.\n",
            "\n",
            "    and our copy was prepared by the\n",
            "    [vega_datasets library](https://github.com/altair-viz/vega_datasets/blob/4f67bdaad10f45e3549984e17e1b3088c731503d/vega_datasets/_data/anscombe.json).\n",
            "\n"
          ],
          "name": "stdout"
        }
      ]
    },
    {
      "cell_type": "code",
      "metadata": {
        "colab": {
          "base_uri": "https://localhost:8080/"
        },
        "id": "JwTg6xHXAq3e",
        "outputId": "aaa910e9-185a-4ecd-e70a-f57a3be6d779"
      },
      "source": [
        "#write a program to print all numbers which are divisible by 5 but are not a multiple of 2.\n",
        "list1= []\n",
        "for x in range(100):\n",
        "  if (x%5==0) and (x%2!=0):\n",
        "    list1.append(str(x))\n",
        "print(list1)"
      ],
      "execution_count": 27,
      "outputs": [
        {
          "output_type": "stream",
          "text": [
            "['5', '15', '25', '35', '45', '55', '65', '75', '85', '95']\n"
          ],
          "name": "stdout"
        }
      ]
    },
    {
      "cell_type": "code",
      "metadata": {
        "colab": {
          "base_uri": "https://localhost:8080/"
        },
        "id": "zztqCZFpAq3e",
        "outputId": "58f4bd70-9462-47ea-ae46-1d45d6844033"
      },
      "source": [
        "#write a program which prints a dictionary which holds the element as the key and the cube of the element as value. The maximum value of the element is set by the given input.\n",
        "# If input is 2, then {1:1,2:8}\n",
        "num = int(input())\n",
        "dict1 = dict()\n",
        "for x in range(1,num+1):\n",
        "  dict1[x] = x*x*x\n",
        "print(dict1)"
      ],
      "execution_count": 28,
      "outputs": [
        {
          "output_type": "stream",
          "text": [
            "5\n",
            "{1: 1, 2: 8, 3: 27, 4: 64, 5: 125}\n"
          ],
          "name": "stdout"
        }
      ]
    },
    {
      "cell_type": "code",
      "metadata": {
        "colab": {
          "base_uri": "https://localhost:8080/"
        },
        "id": "lOmYo32sAq3e",
        "outputId": "f68edb7c-4cb4-48c7-b69c-88fa552abd30"
      },
      "source": [
        "#write a python program which has a class. It has two methods, one for user input and other for converting the string to lower case\n",
        "class GetLowerString(object):\n",
        "  def __init__(self):\n",
        "    self.str = \"\"\n",
        "  \n",
        "  def userString(self):\n",
        "    self.str = input()\n",
        "\n",
        "  def lowerCase(self):\n",
        "    return self.str.lower()\n",
        "\n",
        "str1 = GetLowerString()\n",
        "str1.userString()\n",
        "print(str1.lowerCase())"
      ],
      "execution_count": 29,
      "outputs": [
        {
          "output_type": "stream",
          "text": [
            "Jesus Loves You\n",
            "jesus loves you\n"
          ],
          "name": "stdout"
        }
      ]
    },
    {
      "cell_type": "code",
      "metadata": {
        "colab": {
          "base_uri": "https://localhost:8080/"
        },
        "id": "fwwmax9RAq3e",
        "outputId": "2022a4ec-674e-4301-ed83-effdba006542"
      },
      "source": [
        "\n",
        "#write a program to print the sorted tokens from the input text.\n",
        "txt = input()\n",
        "txt = txt.lower().split(\" \")\n",
        "tokens = [n for n in txt]\n",
        "tokens.sort()\n",
        "print(tokens)"
      ],
      "execution_count": 30,
      "outputs": [
        {
          "output_type": "stream",
          "text": [
            "Jesus Loves You\n",
            "['jesus', 'loves', 'you']\n"
          ],
          "name": "stdout"
        }
      ]
    },
    {
      "cell_type": "code",
      "metadata": {
        "colab": {
          "base_uri": "https://localhost:8080/"
        },
        "id": "t0Hb4_aIAq3e",
        "outputId": "a7550c67-6fa0-4b1a-ff14-bea677739ad7"
      },
      "source": [
        "#write a program to print the user input sequence of lines into lower case\n",
        "para = []\n",
        "while True:\n",
        "  txt = input()\n",
        "  if txt:\n",
        "    para.append(txt.lower())\n",
        "  else:\n",
        "    break;\n",
        "\n",
        "for line in para:\n",
        "  print(line)"
      ],
      "execution_count": 31,
      "outputs": [
        {
          "output_type": "stream",
          "text": [
            "Jesus Loves You\n",
            "Do you love him\n",
            "\n",
            "jesus loves you\n",
            "do you love him\n"
          ],
          "name": "stdout"
        }
      ]
    },
    {
      "cell_type": "code",
      "metadata": {
        "id": "AFA3N8vYAq3e"
      },
      "source": [
        "#write a python function for string concatnation \n",
        "def strConcat(str1,str2):\n",
        "  return str1+str2"
      ],
      "execution_count": 32,
      "outputs": []
    },
    {
      "cell_type": "code",
      "metadata": {
        "colab": {
          "base_uri": "https://localhost:8080/"
        },
        "id": "oE66GPW6Aq3f",
        "outputId": "e2fe262b-1186-423f-c884-4a7005bd8093"
      },
      "source": [
        "#write a python function for printing a Dictionary where the values are cubes of the key\n",
        "def cubeDict(n):\n",
        "  dict1 = dict()\n",
        "  for x in range(1,n+1):\n",
        "    dict1[x] = x**3 # exponent\n",
        "  print(dict1)\n",
        "cubeDict(10)"
      ],
      "execution_count": 33,
      "outputs": [
        {
          "output_type": "stream",
          "text": [
            "{1: 1, 2: 8, 3: 27, 4: 64, 5: 125, 6: 216, 7: 343, 8: 512, 9: 729, 10: 1000}\n"
          ],
          "name": "stdout"
        }
      ]
    },
    {
      "cell_type": "code",
      "metadata": {
        "colab": {
          "base_uri": "https://localhost:8080/"
        },
        "id": "-jvoxxtFAq3f",
        "outputId": "3cb20992-1f55-4010-9a43-0ec590c2efb8"
      },
      "source": [
        "#write a python function for printing a List where the values are cubes \n",
        "def cubeList(n):\n",
        "  list1 = list()\n",
        "  for x in range(1,n):\n",
        "    list1.append(x**3)\n",
        "  print(list1)\n",
        "cubeList(10)"
      ],
      "execution_count": 34,
      "outputs": [
        {
          "output_type": "stream",
          "text": [
            "[1, 8, 27, 64, 125, 216, 343, 512, 729]\n"
          ],
          "name": "stdout"
        }
      ]
    },
    {
      "cell_type": "code",
      "metadata": {
        "colab": {
          "base_uri": "https://localhost:8080/"
        },
        "id": "t9CPx8iqAq3f",
        "outputId": "e98f390f-e171-400b-da75-7d06be7a0909"
      },
      "source": [
        "#write a program to print\n",
        "print()"
      ],
      "execution_count": 35,
      "outputs": [
        {
          "output_type": "stream",
          "text": [
            "\n"
          ],
          "name": "stdout"
        }
      ]
    },
    {
      "cell_type": "code",
      "metadata": {
        "colab": {
          "base_uri": "https://localhost:8080/"
        },
        "id": "IIPHDXkUAq3f",
        "outputId": "84452242-8b25-4611-bfe9-dad8bdcd5543"
      },
      "source": [
        "#write a program to print\n",
        "print()"
      ],
      "execution_count": 36,
      "outputs": [
        {
          "output_type": "stream",
          "text": [
            "\n"
          ],
          "name": "stdout"
        }
      ]
    },
    {
      "cell_type": "code",
      "metadata": {
        "colab": {
          "base_uri": "https://localhost:8080/"
        },
        "id": "v1wSlN28AriZ",
        "outputId": "b933d06a-ffc2-4caa-b397-fed4ca200a30"
      },
      "source": [
        "#write a program to print\n",
        "print()"
      ],
      "execution_count": 37,
      "outputs": [
        {
          "output_type": "stream",
          "text": [
            "\n"
          ],
          "name": "stdout"
        }
      ]
    },
    {
      "cell_type": "code",
      "metadata": {
        "colab": {
          "base_uri": "https://localhost:8080/"
        },
        "id": "mA8rfUODAriZ",
        "outputId": "4d808244-1e76-4955-aedc-c02b50818ea8"
      },
      "source": [
        "#write a program to print\n",
        "print()"
      ],
      "execution_count": 38,
      "outputs": [
        {
          "output_type": "stream",
          "text": [
            "\n"
          ],
          "name": "stdout"
        }
      ]
    },
    {
      "cell_type": "code",
      "metadata": {
        "colab": {
          "base_uri": "https://localhost:8080/"
        },
        "id": "V08kn3FFAria",
        "outputId": "765bfdbc-108f-440d-cc2b-2420f1e80ac9"
      },
      "source": [
        "#write a program to print\n",
        "print()"
      ],
      "execution_count": 39,
      "outputs": [
        {
          "output_type": "stream",
          "text": [
            "\n"
          ],
          "name": "stdout"
        }
      ]
    },
    {
      "cell_type": "code",
      "metadata": {
        "colab": {
          "base_uri": "https://localhost:8080/"
        },
        "id": "5kgbet-xAria",
        "outputId": "f2b7bd0d-73af-4b2e-c5ff-49e03a602392"
      },
      "source": [
        "#write a program to print\n",
        "print()"
      ],
      "execution_count": 40,
      "outputs": [
        {
          "output_type": "stream",
          "text": [
            "\n"
          ],
          "name": "stdout"
        }
      ]
    },
    {
      "cell_type": "code",
      "metadata": {
        "colab": {
          "base_uri": "https://localhost:8080/"
        },
        "id": "HCZQ0n92Aria",
        "outputId": "61b39476-ad38-400b-f064-ee510a81e80e"
      },
      "source": [
        "#write a program to print\n",
        "print()"
      ],
      "execution_count": 41,
      "outputs": [
        {
          "output_type": "stream",
          "text": [
            "\n"
          ],
          "name": "stdout"
        }
      ]
    },
    {
      "cell_type": "code",
      "metadata": {
        "colab": {
          "base_uri": "https://localhost:8080/"
        },
        "id": "eLeEerg2Aria",
        "outputId": "e123c71b-ea91-4092-a055-54866f3385da"
      },
      "source": [
        "#write a program to print\n",
        "print()"
      ],
      "execution_count": 42,
      "outputs": [
        {
          "output_type": "stream",
          "text": [
            "\n"
          ],
          "name": "stdout"
        }
      ]
    },
    {
      "cell_type": "code",
      "metadata": {
        "colab": {
          "base_uri": "https://localhost:8080/"
        },
        "id": "8z0q2BrHAria",
        "outputId": "583c96e6-6785-4f5d-a1f5-1b298b69e038"
      },
      "source": [
        "#write a program to print\n",
        "print()"
      ],
      "execution_count": 43,
      "outputs": [
        {
          "output_type": "stream",
          "text": [
            "\n"
          ],
          "name": "stdout"
        }
      ]
    },
    {
      "cell_type": "code",
      "metadata": {
        "colab": {
          "base_uri": "https://localhost:8080/"
        },
        "id": "wJoZATz3Aria",
        "outputId": "50ac2e22-edb3-45fe-86c2-fe840a8a2e0e"
      },
      "source": [
        "#write a program to print\n",
        "print()"
      ],
      "execution_count": 44,
      "outputs": [
        {
          "output_type": "stream",
          "text": [
            "\n"
          ],
          "name": "stdout"
        }
      ]
    },
    {
      "cell_type": "code",
      "metadata": {
        "colab": {
          "base_uri": "https://localhost:8080/"
        },
        "id": "QpQufaNzAria",
        "outputId": "3a98eef4-d2d7-4af1-e231-f4f37a8acec8"
      },
      "source": [
        "#write a program to print\n",
        "print()"
      ],
      "execution_count": 45,
      "outputs": [
        {
          "output_type": "stream",
          "text": [
            "\n"
          ],
          "name": "stdout"
        }
      ]
    },
    {
      "cell_type": "code",
      "metadata": {
        "colab": {
          "base_uri": "https://localhost:8080/"
        },
        "id": "fA1UQHzfArib",
        "outputId": "5a795f7a-047d-4f63-e9b5-936ed33fda03"
      },
      "source": [
        "#write a program to print\n",
        "print()"
      ],
      "execution_count": 46,
      "outputs": [
        {
          "output_type": "stream",
          "text": [
            "\n"
          ],
          "name": "stdout"
        }
      ]
    },
    {
      "cell_type": "code",
      "metadata": {
        "colab": {
          "base_uri": "https://localhost:8080/"
        },
        "id": "u9qR1NboArib",
        "outputId": "c5f237dc-bc22-4009-df3b-c129fc2dba34"
      },
      "source": [
        "#write a program to print\n",
        "print()"
      ],
      "execution_count": 47,
      "outputs": [
        {
          "output_type": "stream",
          "text": [
            "\n"
          ],
          "name": "stdout"
        }
      ]
    },
    {
      "cell_type": "code",
      "metadata": {
        "colab": {
          "base_uri": "https://localhost:8080/"
        },
        "id": "7-WOIkWNArib",
        "outputId": "4e1026a1-94c6-4997-f4f4-4b2ae3fe0e6e"
      },
      "source": [
        "#write a program to print\n",
        "print()"
      ],
      "execution_count": 48,
      "outputs": [
        {
          "output_type": "stream",
          "text": [
            "\n"
          ],
          "name": "stdout"
        }
      ]
    },
    {
      "cell_type": "code",
      "metadata": {
        "colab": {
          "base_uri": "https://localhost:8080/"
        },
        "id": "V3tgTft0Arib",
        "outputId": "7aef6890-8c7b-4227-ef4f-c97cab39cb3d"
      },
      "source": [
        "#write a program to print\n",
        "print()"
      ],
      "execution_count": 49,
      "outputs": [
        {
          "output_type": "stream",
          "text": [
            "\n"
          ],
          "name": "stdout"
        }
      ]
    },
    {
      "cell_type": "code",
      "metadata": {
        "colab": {
          "base_uri": "https://localhost:8080/"
        },
        "id": "C_K2eZfnArib",
        "outputId": "8bc9601d-2515-45a5-b5af-595af0872737"
      },
      "source": [
        "#write a program to print\n",
        "print()"
      ],
      "execution_count": 50,
      "outputs": [
        {
          "output_type": "stream",
          "text": [
            "\n"
          ],
          "name": "stdout"
        }
      ]
    },
    {
      "cell_type": "code",
      "metadata": {
        "colab": {
          "base_uri": "https://localhost:8080/"
        },
        "id": "j_QyV7CwArib",
        "outputId": "5ecd0c8e-0f2e-4e85-a836-80a82e0cbe8d"
      },
      "source": [
        "#write a program to print\n",
        "print()"
      ],
      "execution_count": 51,
      "outputs": [
        {
          "output_type": "stream",
          "text": [
            "\n"
          ],
          "name": "stdout"
        }
      ]
    },
    {
      "cell_type": "code",
      "metadata": {
        "colab": {
          "base_uri": "https://localhost:8080/"
        },
        "id": "QInzxCNrArib",
        "outputId": "ed6b2550-c2eb-44e4-f9b1-566106bdc2fd"
      },
      "source": [
        "#write a program to print\n",
        "print()"
      ],
      "execution_count": 52,
      "outputs": [
        {
          "output_type": "stream",
          "text": [
            "\n"
          ],
          "name": "stdout"
        }
      ]
    },
    {
      "cell_type": "code",
      "metadata": {
        "colab": {
          "base_uri": "https://localhost:8080/"
        },
        "id": "MNC_Tn9uArvM",
        "outputId": "372e7e32-92e8-4f25-a87f-dfdd188c8fcd"
      },
      "source": [
        "#write a program to print\n",
        "print()"
      ],
      "execution_count": 53,
      "outputs": [
        {
          "output_type": "stream",
          "text": [
            "\n"
          ],
          "name": "stdout"
        }
      ]
    },
    {
      "cell_type": "code",
      "metadata": {
        "colab": {
          "base_uri": "https://localhost:8080/"
        },
        "id": "98qphOgXArvN",
        "outputId": "af0e5a04-9959-4ec1-d37b-f7e2cace4afc"
      },
      "source": [
        "#write a program to print\n",
        "print()"
      ],
      "execution_count": 54,
      "outputs": [
        {
          "output_type": "stream",
          "text": [
            "\n"
          ],
          "name": "stdout"
        }
      ]
    },
    {
      "cell_type": "code",
      "metadata": {
        "colab": {
          "base_uri": "https://localhost:8080/"
        },
        "id": "mJqah5-cArvN",
        "outputId": "a26bd770-762b-4838-9a5a-02320505cc97"
      },
      "source": [
        "#write a program to print\n",
        "print()"
      ],
      "execution_count": 55,
      "outputs": [
        {
          "output_type": "stream",
          "text": [
            "\n"
          ],
          "name": "stdout"
        }
      ]
    },
    {
      "cell_type": "code",
      "metadata": {
        "colab": {
          "base_uri": "https://localhost:8080/"
        },
        "id": "b9Gb624ZArvN",
        "outputId": "91dbeb28-ddac-4f76-fbc1-61e615d2828d"
      },
      "source": [
        "#write a program to print\n",
        "print()"
      ],
      "execution_count": 56,
      "outputs": [
        {
          "output_type": "stream",
          "text": [
            "\n"
          ],
          "name": "stdout"
        }
      ]
    },
    {
      "cell_type": "code",
      "metadata": {
        "colab": {
          "base_uri": "https://localhost:8080/"
        },
        "id": "zzHwofyWArvN",
        "outputId": "60c358b9-6b1f-493d-845c-850f427c0a8e"
      },
      "source": [
        "#write a program to print\n",
        "print()"
      ],
      "execution_count": 57,
      "outputs": [
        {
          "output_type": "stream",
          "text": [
            "\n"
          ],
          "name": "stdout"
        }
      ]
    },
    {
      "cell_type": "code",
      "metadata": {
        "colab": {
          "base_uri": "https://localhost:8080/"
        },
        "id": "IFP0HptOArvN",
        "outputId": "c5ba4280-ec81-492f-f274-9a689ae39aeb"
      },
      "source": [
        "#write a program to print\n",
        "print()"
      ],
      "execution_count": 58,
      "outputs": [
        {
          "output_type": "stream",
          "text": [
            "\n"
          ],
          "name": "stdout"
        }
      ]
    },
    {
      "cell_type": "code",
      "metadata": {
        "colab": {
          "base_uri": "https://localhost:8080/"
        },
        "id": "mzHeqaTzArvN",
        "outputId": "1decdf35-acf4-4b78-800e-183df3fd22ae"
      },
      "source": [
        "#write a program to print\n",
        "print()"
      ],
      "execution_count": 59,
      "outputs": [
        {
          "output_type": "stream",
          "text": [
            "\n"
          ],
          "name": "stdout"
        }
      ]
    },
    {
      "cell_type": "code",
      "metadata": {
        "colab": {
          "base_uri": "https://localhost:8080/"
        },
        "id": "jjgz8G20ArvN",
        "outputId": "29c72f95-5032-4f89-9f08-6aabb4293f35"
      },
      "source": [
        "#write a program to print\n",
        "print()"
      ],
      "execution_count": 60,
      "outputs": [
        {
          "output_type": "stream",
          "text": [
            "\n"
          ],
          "name": "stdout"
        }
      ]
    },
    {
      "cell_type": "code",
      "metadata": {
        "colab": {
          "base_uri": "https://localhost:8080/"
        },
        "id": "DqbCarXiArvO",
        "outputId": "d11f2b57-0b9a-40b2-96df-ab3f82bfa6fa"
      },
      "source": [
        "#write a program to print\n",
        "print()"
      ],
      "execution_count": 61,
      "outputs": [
        {
          "output_type": "stream",
          "text": [
            "\n"
          ],
          "name": "stdout"
        }
      ]
    },
    {
      "cell_type": "code",
      "metadata": {
        "colab": {
          "base_uri": "https://localhost:8080/"
        },
        "id": "u-QnWTZtArvO",
        "outputId": "bccddc44-2208-4968-ce2e-bfffbcabdfdc"
      },
      "source": [
        "#write a program to print\n",
        "print()"
      ],
      "execution_count": 62,
      "outputs": [
        {
          "output_type": "stream",
          "text": [
            "\n"
          ],
          "name": "stdout"
        }
      ]
    },
    {
      "cell_type": "code",
      "metadata": {
        "colab": {
          "base_uri": "https://localhost:8080/"
        },
        "id": "_LgyY8NnArvO",
        "outputId": "5fceacb1-4548-4cb3-cfc4-8698d7ede34d"
      },
      "source": [
        "#write a program to print\n",
        "print()"
      ],
      "execution_count": 63,
      "outputs": [
        {
          "output_type": "stream",
          "text": [
            "\n"
          ],
          "name": "stdout"
        }
      ]
    },
    {
      "cell_type": "code",
      "metadata": {
        "colab": {
          "base_uri": "https://localhost:8080/"
        },
        "id": "5oAwRFLoArvO",
        "outputId": "2f98c8c5-dee7-4e84-85b3-c2cff32473c9"
      },
      "source": [
        "#write a program to print\n",
        "print()"
      ],
      "execution_count": 64,
      "outputs": [
        {
          "output_type": "stream",
          "text": [
            "\n"
          ],
          "name": "stdout"
        }
      ]
    },
    {
      "cell_type": "code",
      "metadata": {
        "colab": {
          "base_uri": "https://localhost:8080/"
        },
        "id": "UDurUs9PArvO",
        "outputId": "27474658-9fc7-41da-f943-a76a7d65374e"
      },
      "source": [
        "#write a program to print\n",
        "print()"
      ],
      "execution_count": 65,
      "outputs": [
        {
          "output_type": "stream",
          "text": [
            "\n"
          ],
          "name": "stdout"
        }
      ]
    },
    {
      "cell_type": "code",
      "metadata": {
        "colab": {
          "base_uri": "https://localhost:8080/"
        },
        "id": "sVbhXOxqArvO",
        "outputId": "c0827282-2c1f-4beb-ef19-6a61fc68358e"
      },
      "source": [
        "#write a program to print\n",
        "print()"
      ],
      "execution_count": 66,
      "outputs": [
        {
          "output_type": "stream",
          "text": [
            "\n"
          ],
          "name": "stdout"
        }
      ]
    },
    {
      "cell_type": "code",
      "metadata": {
        "colab": {
          "base_uri": "https://localhost:8080/"
        },
        "id": "Y7z2YhXHArvO",
        "outputId": "1cdbe723-2be9-4905-e55c-88cc1a1dc135"
      },
      "source": [
        "#write a program to print\n",
        "print()"
      ],
      "execution_count": 67,
      "outputs": [
        {
          "output_type": "stream",
          "text": [
            "\n"
          ],
          "name": "stdout"
        }
      ]
    },
    {
      "cell_type": "code",
      "metadata": {
        "colab": {
          "base_uri": "https://localhost:8080/"
        },
        "id": "QFUsWb6YArvO",
        "outputId": "0cd6f29d-8cc8-4c93-d39d-ae59a1f8c468"
      },
      "source": [
        "#write a program to print\n",
        "print()"
      ],
      "execution_count": 68,
      "outputs": [
        {
          "output_type": "stream",
          "text": [
            "\n"
          ],
          "name": "stdout"
        }
      ]
    },
    {
      "cell_type": "code",
      "metadata": {
        "colab": {
          "base_uri": "https://localhost:8080/"
        },
        "id": "5hmaVQNXAr7Y",
        "outputId": "0bb6da5c-dd48-4467-ab9d-4ba3eb444cc9"
      },
      "source": [
        "#write a program to print\n",
        "print()"
      ],
      "execution_count": 69,
      "outputs": [
        {
          "output_type": "stream",
          "text": [
            "\n"
          ],
          "name": "stdout"
        }
      ]
    },
    {
      "cell_type": "code",
      "metadata": {
        "colab": {
          "base_uri": "https://localhost:8080/"
        },
        "id": "duR7Y_epAr7Y",
        "outputId": "4a440a25-18a0-4eeb-a3aa-ccf8e4dd4576"
      },
      "source": [
        "#write a program to print\n",
        "print()"
      ],
      "execution_count": 70,
      "outputs": [
        {
          "output_type": "stream",
          "text": [
            "\n"
          ],
          "name": "stdout"
        }
      ]
    },
    {
      "cell_type": "code",
      "metadata": {
        "colab": {
          "base_uri": "https://localhost:8080/"
        },
        "id": "BruPFq-5Ar7Y",
        "outputId": "7fc3b261-1155-435f-a364-9ab926d1681c"
      },
      "source": [
        "#write a program to print\n",
        "print()"
      ],
      "execution_count": 71,
      "outputs": [
        {
          "output_type": "stream",
          "text": [
            "\n"
          ],
          "name": "stdout"
        }
      ]
    },
    {
      "cell_type": "code",
      "metadata": {
        "colab": {
          "base_uri": "https://localhost:8080/"
        },
        "id": "ZE9FYDxHAr7Y",
        "outputId": "2149f61d-9402-4558-e83c-7f96a80df298"
      },
      "source": [
        "#write a program to print\n",
        "print()"
      ],
      "execution_count": 72,
      "outputs": [
        {
          "output_type": "stream",
          "text": [
            "\n"
          ],
          "name": "stdout"
        }
      ]
    },
    {
      "cell_type": "code",
      "metadata": {
        "colab": {
          "base_uri": "https://localhost:8080/"
        },
        "id": "cLWRZ6akAr7Y",
        "outputId": "858d05e1-6058-40c9-ccca-c85f055c61c3"
      },
      "source": [
        "#write a program to print\n",
        "print()"
      ],
      "execution_count": 73,
      "outputs": [
        {
          "output_type": "stream",
          "text": [
            "\n"
          ],
          "name": "stdout"
        }
      ]
    },
    {
      "cell_type": "code",
      "metadata": {
        "colab": {
          "base_uri": "https://localhost:8080/"
        },
        "id": "bEQKwdQAAr7Z",
        "outputId": "85b83cd1-60ca-432f-ffe0-d18198283449"
      },
      "source": [
        "#write a program to print\n",
        "print()"
      ],
      "execution_count": 74,
      "outputs": [
        {
          "output_type": "stream",
          "text": [
            "\n"
          ],
          "name": "stdout"
        }
      ]
    },
    {
      "cell_type": "code",
      "metadata": {
        "colab": {
          "base_uri": "https://localhost:8080/"
        },
        "id": "T9kT6HlSAr7Z",
        "outputId": "f2311c89-a954-483f-f241-5f737a050081"
      },
      "source": [
        "#write a program to print\n",
        "print()"
      ],
      "execution_count": 75,
      "outputs": [
        {
          "output_type": "stream",
          "text": [
            "\n"
          ],
          "name": "stdout"
        }
      ]
    },
    {
      "cell_type": "code",
      "metadata": {
        "colab": {
          "base_uri": "https://localhost:8080/"
        },
        "id": "_ZNNTkdNAr7Z",
        "outputId": "3160e8e0-1e32-4d68-bdb0-1d4ca65ab25b"
      },
      "source": [
        "#write a program to print\n",
        "print()"
      ],
      "execution_count": 76,
      "outputs": [
        {
          "output_type": "stream",
          "text": [
            "\n"
          ],
          "name": "stdout"
        }
      ]
    },
    {
      "cell_type": "code",
      "metadata": {
        "colab": {
          "base_uri": "https://localhost:8080/"
        },
        "id": "NN3SLV4JAr7Z",
        "outputId": "f1d1505c-0a7d-44fe-b04a-caa0b1ed45b7"
      },
      "source": [
        "#write a program to print\n",
        "print()"
      ],
      "execution_count": 77,
      "outputs": [
        {
          "output_type": "stream",
          "text": [
            "\n"
          ],
          "name": "stdout"
        }
      ]
    },
    {
      "cell_type": "code",
      "metadata": {
        "colab": {
          "base_uri": "https://localhost:8080/"
        },
        "id": "h6HNEhxVAr7Z",
        "outputId": "f0c73a3b-ee9e-427b-c38b-20df722407e7"
      },
      "source": [
        "#write a program to print\n",
        "print()"
      ],
      "execution_count": 78,
      "outputs": [
        {
          "output_type": "stream",
          "text": [
            "\n"
          ],
          "name": "stdout"
        }
      ]
    },
    {
      "cell_type": "code",
      "metadata": {
        "colab": {
          "base_uri": "https://localhost:8080/"
        },
        "id": "BvguFk4HAr7Z",
        "outputId": "9440a6cd-c554-48df-9b02-26c49c2b737c"
      },
      "source": [
        "#write a program to print\n",
        "print()"
      ],
      "execution_count": 79,
      "outputs": [
        {
          "output_type": "stream",
          "text": [
            "\n"
          ],
          "name": "stdout"
        }
      ]
    },
    {
      "cell_type": "code",
      "metadata": {
        "colab": {
          "base_uri": "https://localhost:8080/"
        },
        "id": "pxR0X2d2Ar7Z",
        "outputId": "5a6a6898-5d44-4deb-d6cd-05536b3b58ba"
      },
      "source": [
        "#write a program to print\n",
        "print()"
      ],
      "execution_count": 80,
      "outputs": [
        {
          "output_type": "stream",
          "text": [
            "\n"
          ],
          "name": "stdout"
        }
      ]
    },
    {
      "cell_type": "code",
      "metadata": {
        "colab": {
          "base_uri": "https://localhost:8080/"
        },
        "id": "HqZYZ88_Ar7Z",
        "outputId": "bf91739f-dcbf-4a25-b5a3-a7f3daa90010"
      },
      "source": [
        "#write a program to print\n",
        "print()"
      ],
      "execution_count": 81,
      "outputs": [
        {
          "output_type": "stream",
          "text": [
            "\n"
          ],
          "name": "stdout"
        }
      ]
    },
    {
      "cell_type": "code",
      "metadata": {
        "colab": {
          "base_uri": "https://localhost:8080/"
        },
        "id": "dNUGWhBzAr7a",
        "outputId": "e874c19c-caf6-4e93-a831-41f2cada0787"
      },
      "source": [
        "#write a program to print\n",
        "print()"
      ],
      "execution_count": 82,
      "outputs": [
        {
          "output_type": "stream",
          "text": [
            "\n"
          ],
          "name": "stdout"
        }
      ]
    },
    {
      "cell_type": "code",
      "metadata": {
        "colab": {
          "base_uri": "https://localhost:8080/"
        },
        "id": "o5MBJTKhAr7a",
        "outputId": "a5a6804d-1d68-4951-9dd5-15b90a181437"
      },
      "source": [
        "#write a program to print\n",
        "print()"
      ],
      "execution_count": 83,
      "outputs": [
        {
          "output_type": "stream",
          "text": [
            "\n"
          ],
          "name": "stdout"
        }
      ]
    },
    {
      "cell_type": "code",
      "metadata": {
        "colab": {
          "base_uri": "https://localhost:8080/"
        },
        "id": "4Oiu1erTAr7a",
        "outputId": "bb6aa8d8-6847-4660-d94a-63ebd89a1f6d"
      },
      "source": [
        "#write a program to print\n",
        "print()"
      ],
      "execution_count": 84,
      "outputs": [
        {
          "output_type": "stream",
          "text": [
            "\n"
          ],
          "name": "stdout"
        }
      ]
    },
    {
      "cell_type": "code",
      "metadata": {
        "colab": {
          "base_uri": "https://localhost:8080/"
        },
        "id": "Pl_qzcQnAsCu",
        "outputId": "32e6cfea-be6d-4bf7-a60a-f799df9a90e3"
      },
      "source": [
        "#write a program to print\n",
        "print()"
      ],
      "execution_count": 85,
      "outputs": [
        {
          "output_type": "stream",
          "text": [
            "\n"
          ],
          "name": "stdout"
        }
      ]
    },
    {
      "cell_type": "code",
      "metadata": {
        "colab": {
          "base_uri": "https://localhost:8080/"
        },
        "id": "PsHSmlqXAsCv",
        "outputId": "43a7b95a-e660-40ee-d275-d081fc0cc7a6"
      },
      "source": [
        "#write a program to print\n",
        "print()"
      ],
      "execution_count": 86,
      "outputs": [
        {
          "output_type": "stream",
          "text": [
            "\n"
          ],
          "name": "stdout"
        }
      ]
    },
    {
      "cell_type": "code",
      "metadata": {
        "colab": {
          "base_uri": "https://localhost:8080/"
        },
        "id": "r2Qj2zgHAsCv",
        "outputId": "518ce927-aabe-4d02-e0da-9ce21ac20f48"
      },
      "source": [
        "#write a program to print\n",
        "print()"
      ],
      "execution_count": 87,
      "outputs": [
        {
          "output_type": "stream",
          "text": [
            "\n"
          ],
          "name": "stdout"
        }
      ]
    },
    {
      "cell_type": "code",
      "metadata": {
        "colab": {
          "base_uri": "https://localhost:8080/"
        },
        "id": "PTEPvzi7AsCv",
        "outputId": "3e6d77fd-b64c-471e-d708-2567f9b9371d"
      },
      "source": [
        "#write a program to print\n",
        "print()"
      ],
      "execution_count": 88,
      "outputs": [
        {
          "output_type": "stream",
          "text": [
            "\n"
          ],
          "name": "stdout"
        }
      ]
    },
    {
      "cell_type": "code",
      "metadata": {
        "colab": {
          "base_uri": "https://localhost:8080/"
        },
        "id": "US54AuZfAsCv",
        "outputId": "17b31f19-6476-440b-e5df-ab58c38fce84"
      },
      "source": [
        "#write a program to print\n",
        "print()"
      ],
      "execution_count": 89,
      "outputs": [
        {
          "output_type": "stream",
          "text": [
            "\n"
          ],
          "name": "stdout"
        }
      ]
    },
    {
      "cell_type": "code",
      "metadata": {
        "colab": {
          "base_uri": "https://localhost:8080/"
        },
        "id": "bXDtiiTHAsCv",
        "outputId": "ea15a887-54cd-46f8-9829-71f27161d13d"
      },
      "source": [
        "#write a program to print\n",
        "print()"
      ],
      "execution_count": 90,
      "outputs": [
        {
          "output_type": "stream",
          "text": [
            "\n"
          ],
          "name": "stdout"
        }
      ]
    },
    {
      "cell_type": "code",
      "metadata": {
        "colab": {
          "base_uri": "https://localhost:8080/"
        },
        "id": "bBYwtSYFAsCv",
        "outputId": "0c867f71-42ad-44a0-e819-55fce3e8de92"
      },
      "source": [
        "#write a program to print\n",
        "print()"
      ],
      "execution_count": 91,
      "outputs": [
        {
          "output_type": "stream",
          "text": [
            "\n"
          ],
          "name": "stdout"
        }
      ]
    },
    {
      "cell_type": "code",
      "metadata": {
        "colab": {
          "base_uri": "https://localhost:8080/"
        },
        "id": "S9VGWLDiAsCv",
        "outputId": "86cea91b-e707-4d2f-8945-dff5ca9c67fc"
      },
      "source": [
        "#write a program to print\n",
        "print()"
      ],
      "execution_count": 92,
      "outputs": [
        {
          "output_type": "stream",
          "text": [
            "\n"
          ],
          "name": "stdout"
        }
      ]
    },
    {
      "cell_type": "code",
      "metadata": {
        "colab": {
          "base_uri": "https://localhost:8080/"
        },
        "id": "_AbEmgI6AsCv",
        "outputId": "90978851-57a1-4fa4-df49-8f70784518ac"
      },
      "source": [
        "#write a program to print\n",
        "print()"
      ],
      "execution_count": 93,
      "outputs": [
        {
          "output_type": "stream",
          "text": [
            "\n"
          ],
          "name": "stdout"
        }
      ]
    },
    {
      "cell_type": "code",
      "metadata": {
        "colab": {
          "base_uri": "https://localhost:8080/"
        },
        "id": "1GPkrVK4AsCw",
        "outputId": "ee2442f2-be00-496a-a38c-4c0484814829"
      },
      "source": [
        "#write a program to print\n",
        "print()"
      ],
      "execution_count": 94,
      "outputs": [
        {
          "output_type": "stream",
          "text": [
            "\n"
          ],
          "name": "stdout"
        }
      ]
    },
    {
      "cell_type": "code",
      "metadata": {
        "colab": {
          "base_uri": "https://localhost:8080/"
        },
        "id": "Cf_OyQcPAsCw",
        "outputId": "05e113d1-9f34-40e5-cbf0-cb93b20b24a3"
      },
      "source": [
        "#write a program to print\n",
        "print()"
      ],
      "execution_count": 95,
      "outputs": [
        {
          "output_type": "stream",
          "text": [
            "\n"
          ],
          "name": "stdout"
        }
      ]
    },
    {
      "cell_type": "code",
      "metadata": {
        "colab": {
          "base_uri": "https://localhost:8080/"
        },
        "id": "Ok6zw7h7AsCw",
        "outputId": "3a11a419-4533-4ca8-e5b5-c83638f6ac80"
      },
      "source": [
        "#write a program to print\n",
        "print()"
      ],
      "execution_count": 96,
      "outputs": [
        {
          "output_type": "stream",
          "text": [
            "\n"
          ],
          "name": "stdout"
        }
      ]
    },
    {
      "cell_type": "code",
      "metadata": {
        "colab": {
          "base_uri": "https://localhost:8080/"
        },
        "id": "AeThwSlKAsCw",
        "outputId": "08f7b9bb-b0d0-4bb8-a3ef-0a6c0aab8246"
      },
      "source": [
        "#write a program to print\n",
        "print()"
      ],
      "execution_count": 97,
      "outputs": [
        {
          "output_type": "stream",
          "text": [
            "\n"
          ],
          "name": "stdout"
        }
      ]
    },
    {
      "cell_type": "code",
      "metadata": {
        "colab": {
          "base_uri": "https://localhost:8080/"
        },
        "id": "avmCuMiJAsCw",
        "outputId": "2375a274-a407-42be-d618-82555ff61c92"
      },
      "source": [
        "#write a program to print\n",
        "print()"
      ],
      "execution_count": 98,
      "outputs": [
        {
          "output_type": "stream",
          "text": [
            "\n"
          ],
          "name": "stdout"
        }
      ]
    },
    {
      "cell_type": "code",
      "metadata": {
        "colab": {
          "base_uri": "https://localhost:8080/"
        },
        "id": "pm6x37R_AsCw",
        "outputId": "37cb0d21-1190-420f-81f4-dcd390f39be3"
      },
      "source": [
        "#write a program to print\n",
        "print()"
      ],
      "execution_count": 99,
      "outputs": [
        {
          "output_type": "stream",
          "text": [
            "\n"
          ],
          "name": "stdout"
        }
      ]
    },
    {
      "cell_type": "code",
      "metadata": {
        "colab": {
          "base_uri": "https://localhost:8080/"
        },
        "id": "86NMala_AsCw",
        "outputId": "ee639257-b695-4830-f81e-65b14ebcfcb2"
      },
      "source": [
        "#write a program to print\n",
        "print()"
      ],
      "execution_count": 100,
      "outputs": [
        {
          "output_type": "stream",
          "text": [
            "\n"
          ],
          "name": "stdout"
        }
      ]
    },
    {
      "cell_type": "code",
      "metadata": {
        "colab": {
          "base_uri": "https://localhost:8080/"
        },
        "id": "vrFFBzWnAsJx",
        "outputId": "0fe902d2-4861-4955-f3cc-fa78ec04ae01"
      },
      "source": [
        "#write a program to print\n",
        "print()"
      ],
      "execution_count": 101,
      "outputs": [
        {
          "output_type": "stream",
          "text": [
            "\n"
          ],
          "name": "stdout"
        }
      ]
    },
    {
      "cell_type": "code",
      "metadata": {
        "colab": {
          "base_uri": "https://localhost:8080/"
        },
        "id": "UVI3DDSeAsJy",
        "outputId": "c1323a85-a5a5-4418-b548-747c112cf80f"
      },
      "source": [
        "#write a program to print\n",
        "print()"
      ],
      "execution_count": 102,
      "outputs": [
        {
          "output_type": "stream",
          "text": [
            "\n"
          ],
          "name": "stdout"
        }
      ]
    },
    {
      "cell_type": "code",
      "metadata": {
        "colab": {
          "base_uri": "https://localhost:8080/"
        },
        "id": "Ok5UxFF1AsJy",
        "outputId": "cb70c989-6c5c-4c47-97c4-3c3b706a9a03"
      },
      "source": [
        "#write a program to print\n",
        "print()"
      ],
      "execution_count": 103,
      "outputs": [
        {
          "output_type": "stream",
          "text": [
            "\n"
          ],
          "name": "stdout"
        }
      ]
    },
    {
      "cell_type": "code",
      "metadata": {
        "colab": {
          "base_uri": "https://localhost:8080/"
        },
        "id": "jRZyrF_MAsJy",
        "outputId": "573967d7-f9de-44e7-cca3-75013fd3b809"
      },
      "source": [
        "#write a program to print\n",
        "print()"
      ],
      "execution_count": 104,
      "outputs": [
        {
          "output_type": "stream",
          "text": [
            "\n"
          ],
          "name": "stdout"
        }
      ]
    },
    {
      "cell_type": "code",
      "metadata": {
        "colab": {
          "base_uri": "https://localhost:8080/"
        },
        "id": "RZbNPU-QAsJy",
        "outputId": "34dbeca8-4d00-4ef2-f8b9-e50a692612bd"
      },
      "source": [
        "#write a program to print\n",
        "print()"
      ],
      "execution_count": 105,
      "outputs": [
        {
          "output_type": "stream",
          "text": [
            "\n"
          ],
          "name": "stdout"
        }
      ]
    },
    {
      "cell_type": "code",
      "metadata": {
        "colab": {
          "base_uri": "https://localhost:8080/"
        },
        "id": "AAd3VO4gAsJy",
        "outputId": "9aa6084a-9762-4b8a-8f91-8e61a8d52435"
      },
      "source": [
        "#write a program to print\n",
        "print()"
      ],
      "execution_count": 106,
      "outputs": [
        {
          "output_type": "stream",
          "text": [
            "\n"
          ],
          "name": "stdout"
        }
      ]
    },
    {
      "cell_type": "code",
      "metadata": {
        "colab": {
          "base_uri": "https://localhost:8080/"
        },
        "id": "Bn-a0xovAsJy",
        "outputId": "e165272a-de36-4df7-bc7d-92d7e02c77d0"
      },
      "source": [
        "#write a program to print\n",
        "print()"
      ],
      "execution_count": 107,
      "outputs": [
        {
          "output_type": "stream",
          "text": [
            "\n"
          ],
          "name": "stdout"
        }
      ]
    },
    {
      "cell_type": "code",
      "metadata": {
        "colab": {
          "base_uri": "https://localhost:8080/"
        },
        "id": "pVnn-1CTAsJz",
        "outputId": "417b37d9-a894-43b5-eaad-bfe0086c8f59"
      },
      "source": [
        "#write a program to print\n",
        "print()"
      ],
      "execution_count": 108,
      "outputs": [
        {
          "output_type": "stream",
          "text": [
            "\n"
          ],
          "name": "stdout"
        }
      ]
    },
    {
      "cell_type": "code",
      "metadata": {
        "colab": {
          "base_uri": "https://localhost:8080/"
        },
        "id": "RjFU1BWUAsJz",
        "outputId": "54313aaf-2820-42b0-fff7-54d156ca362f"
      },
      "source": [
        "#write a program to print\n",
        "print()"
      ],
      "execution_count": 109,
      "outputs": [
        {
          "output_type": "stream",
          "text": [
            "\n"
          ],
          "name": "stdout"
        }
      ]
    },
    {
      "cell_type": "code",
      "metadata": {
        "colab": {
          "base_uri": "https://localhost:8080/"
        },
        "id": "Iw1BfdFCAsJz",
        "outputId": "7130af3e-dfa7-4361-eb5a-ae61d72f75b1"
      },
      "source": [
        "#write a program to print\n",
        "print()"
      ],
      "execution_count": 110,
      "outputs": [
        {
          "output_type": "stream",
          "text": [
            "\n"
          ],
          "name": "stdout"
        }
      ]
    },
    {
      "cell_type": "code",
      "metadata": {
        "colab": {
          "base_uri": "https://localhost:8080/"
        },
        "id": "16a03PgMAsJz",
        "outputId": "5ac40e2f-4c0a-4f4a-a55a-d800f855aa47"
      },
      "source": [
        "#write a program to print\n",
        "print()"
      ],
      "execution_count": 111,
      "outputs": [
        {
          "output_type": "stream",
          "text": [
            "\n"
          ],
          "name": "stdout"
        }
      ]
    },
    {
      "cell_type": "code",
      "metadata": {
        "colab": {
          "base_uri": "https://localhost:8080/"
        },
        "id": "27VuQfv-AsJz",
        "outputId": "7ae3a890-bb45-462b-f64a-e181e64b2c36"
      },
      "source": [
        "#write a program to print\n",
        "print()"
      ],
      "execution_count": 112,
      "outputs": [
        {
          "output_type": "stream",
          "text": [
            "\n"
          ],
          "name": "stdout"
        }
      ]
    },
    {
      "cell_type": "code",
      "metadata": {
        "colab": {
          "base_uri": "https://localhost:8080/"
        },
        "id": "5-p0kbJ4AsJz",
        "outputId": "1441976e-c43c-44b1-c312-fe759e9fa3bd"
      },
      "source": [
        "#write a program to print\n",
        "print()"
      ],
      "execution_count": 113,
      "outputs": [
        {
          "output_type": "stream",
          "text": [
            "\n"
          ],
          "name": "stdout"
        }
      ]
    },
    {
      "cell_type": "code",
      "metadata": {
        "colab": {
          "base_uri": "https://localhost:8080/"
        },
        "id": "ueMrleJCAsJz",
        "outputId": "92606740-3a15-462b-fe6d-e805f773e898"
      },
      "source": [
        "#write a program to print\n",
        "print()"
      ],
      "execution_count": 114,
      "outputs": [
        {
          "output_type": "stream",
          "text": [
            "\n"
          ],
          "name": "stdout"
        }
      ]
    },
    {
      "cell_type": "code",
      "metadata": {
        "colab": {
          "base_uri": "https://localhost:8080/"
        },
        "id": "V-msW9upAsJz",
        "outputId": "2bcad9f2-bdda-4a62-b3d0-b1e3e4234698"
      },
      "source": [
        "#write a program to print\n",
        "print()"
      ],
      "execution_count": 115,
      "outputs": [
        {
          "output_type": "stream",
          "text": [
            "\n"
          ],
          "name": "stdout"
        }
      ]
    },
    {
      "cell_type": "code",
      "metadata": {
        "colab": {
          "base_uri": "https://localhost:8080/"
        },
        "id": "VTBlBPPBAsJz",
        "outputId": "8f86f194-e083-48be-89b4-0a5ed564a487"
      },
      "source": [
        "#write a program to print\n",
        "print()"
      ],
      "execution_count": 116,
      "outputs": [
        {
          "output_type": "stream",
          "text": [
            "\n"
          ],
          "name": "stdout"
        }
      ]
    },
    {
      "cell_type": "code",
      "metadata": {
        "colab": {
          "base_uri": "https://localhost:8080/"
        },
        "id": "m_oqmR_7AsTf",
        "outputId": "21f938cf-0a21-4fb5-b3a2-99060b035d28"
      },
      "source": [
        "#write a program to print\n",
        "print()"
      ],
      "execution_count": 117,
      "outputs": [
        {
          "output_type": "stream",
          "text": [
            "\n"
          ],
          "name": "stdout"
        }
      ]
    },
    {
      "cell_type": "code",
      "metadata": {
        "colab": {
          "base_uri": "https://localhost:8080/"
        },
        "id": "L5JrqQD2AsTg",
        "outputId": "4370de90-e28b-482e-d59a-5df1eceb7683"
      },
      "source": [
        "#write a program to print\n",
        "print()"
      ],
      "execution_count": 118,
      "outputs": [
        {
          "output_type": "stream",
          "text": [
            "\n"
          ],
          "name": "stdout"
        }
      ]
    },
    {
      "cell_type": "code",
      "metadata": {
        "colab": {
          "base_uri": "https://localhost:8080/"
        },
        "id": "gLAAPMjFAsTg",
        "outputId": "262300bd-95a6-454b-aa32-6cac2276f7e7"
      },
      "source": [
        "#write a program to print\n",
        "print()"
      ],
      "execution_count": 119,
      "outputs": [
        {
          "output_type": "stream",
          "text": [
            "\n"
          ],
          "name": "stdout"
        }
      ]
    },
    {
      "cell_type": "code",
      "metadata": {
        "colab": {
          "base_uri": "https://localhost:8080/"
        },
        "id": "HGS5WYPJAsTg",
        "outputId": "af356692-1617-4d25-d5be-52a6ada5c18e"
      },
      "source": [
        "#write a program to print\n",
        "print()"
      ],
      "execution_count": 120,
      "outputs": [
        {
          "output_type": "stream",
          "text": [
            "\n"
          ],
          "name": "stdout"
        }
      ]
    },
    {
      "cell_type": "code",
      "metadata": {
        "colab": {
          "base_uri": "https://localhost:8080/"
        },
        "id": "ap75qIF2AsTg",
        "outputId": "65379d25-f264-439b-c0dc-1c91e7add1a9"
      },
      "source": [
        "#write a program to print\n",
        "print()"
      ],
      "execution_count": 121,
      "outputs": [
        {
          "output_type": "stream",
          "text": [
            "\n"
          ],
          "name": "stdout"
        }
      ]
    },
    {
      "cell_type": "code",
      "metadata": {
        "colab": {
          "base_uri": "https://localhost:8080/"
        },
        "id": "n5WcviQAAsTg",
        "outputId": "8729d948-f172-49b6-f97e-cbe8d7b8f30c"
      },
      "source": [
        "#write a program to print\n",
        "print()"
      ],
      "execution_count": 122,
      "outputs": [
        {
          "output_type": "stream",
          "text": [
            "\n"
          ],
          "name": "stdout"
        }
      ]
    },
    {
      "cell_type": "code",
      "metadata": {
        "colab": {
          "base_uri": "https://localhost:8080/"
        },
        "id": "Zii03Ua-AsTg",
        "outputId": "68d4689a-4210-4a30-b081-07fd1bfc0364"
      },
      "source": [
        "#write a program to print\n",
        "print()"
      ],
      "execution_count": 123,
      "outputs": [
        {
          "output_type": "stream",
          "text": [
            "\n"
          ],
          "name": "stdout"
        }
      ]
    },
    {
      "cell_type": "code",
      "metadata": {
        "colab": {
          "base_uri": "https://localhost:8080/"
        },
        "id": "Y9QbhWcSAsTh",
        "outputId": "41e72931-63fb-4455-db24-798378d10db7"
      },
      "source": [
        "#write a program to print\n",
        "print()"
      ],
      "execution_count": 124,
      "outputs": [
        {
          "output_type": "stream",
          "text": [
            "\n"
          ],
          "name": "stdout"
        }
      ]
    },
    {
      "cell_type": "code",
      "metadata": {
        "colab": {
          "base_uri": "https://localhost:8080/"
        },
        "id": "XcV1DarqAsTh",
        "outputId": "52ef04af-6800-4be6-c81a-99063f25081d"
      },
      "source": [
        "#write a program to print\n",
        "print()"
      ],
      "execution_count": 125,
      "outputs": [
        {
          "output_type": "stream",
          "text": [
            "\n"
          ],
          "name": "stdout"
        }
      ]
    },
    {
      "cell_type": "code",
      "metadata": {
        "colab": {
          "base_uri": "https://localhost:8080/"
        },
        "id": "9ejduvmnAsTh",
        "outputId": "4ee375f6-2e67-4618-ad97-ac5ee69ffa13"
      },
      "source": [
        "#write a program to print\n",
        "print()"
      ],
      "execution_count": 126,
      "outputs": [
        {
          "output_type": "stream",
          "text": [
            "\n"
          ],
          "name": "stdout"
        }
      ]
    },
    {
      "cell_type": "code",
      "metadata": {
        "colab": {
          "base_uri": "https://localhost:8080/"
        },
        "id": "4zjfv5voAsTh",
        "outputId": "741a6ebe-3013-45a5-98a1-9c5b3378137a"
      },
      "source": [
        "#write a program to print\n",
        "print()"
      ],
      "execution_count": 127,
      "outputs": [
        {
          "output_type": "stream",
          "text": [
            "\n"
          ],
          "name": "stdout"
        }
      ]
    },
    {
      "cell_type": "code",
      "metadata": {
        "colab": {
          "base_uri": "https://localhost:8080/"
        },
        "id": "QTZmh7UzAsTh",
        "outputId": "33eff7f4-5d21-4de0-c4b0-05daaaf608fa"
      },
      "source": [
        "#write a program to print\n",
        "print()"
      ],
      "execution_count": 128,
      "outputs": [
        {
          "output_type": "stream",
          "text": [
            "\n"
          ],
          "name": "stdout"
        }
      ]
    },
    {
      "cell_type": "code",
      "metadata": {
        "colab": {
          "base_uri": "https://localhost:8080/"
        },
        "id": "KMSJgTmoAsTh",
        "outputId": "3f1809b3-e005-4983-99c5-aa2fc2c4219b"
      },
      "source": [
        "#write a program to print\n",
        "print()"
      ],
      "execution_count": 129,
      "outputs": [
        {
          "output_type": "stream",
          "text": [
            "\n"
          ],
          "name": "stdout"
        }
      ]
    },
    {
      "cell_type": "code",
      "metadata": {
        "colab": {
          "base_uri": "https://localhost:8080/"
        },
        "id": "FqkAscRNAsTh",
        "outputId": "6e64b96b-27c4-4523-afde-aa1345ef6d6d"
      },
      "source": [
        "#write a program to print\n",
        "print()"
      ],
      "execution_count": 130,
      "outputs": [
        {
          "output_type": "stream",
          "text": [
            "\n"
          ],
          "name": "stdout"
        }
      ]
    },
    {
      "cell_type": "code",
      "metadata": {
        "colab": {
          "base_uri": "https://localhost:8080/"
        },
        "id": "nQVg0wOSAsTh",
        "outputId": "b3c17b45-bf0d-4572-ce92-c850bfde7f9b"
      },
      "source": [
        "#write a program to print\n",
        "print()"
      ],
      "execution_count": 131,
      "outputs": [
        {
          "output_type": "stream",
          "text": [
            "\n"
          ],
          "name": "stdout"
        }
      ]
    },
    {
      "cell_type": "code",
      "metadata": {
        "colab": {
          "base_uri": "https://localhost:8080/"
        },
        "id": "WgtSuS97AsTh",
        "outputId": "f8dbc777-1d72-4d2e-814e-131e08652cf5"
      },
      "source": [
        "#write a program to print\n",
        "print()"
      ],
      "execution_count": 132,
      "outputs": [
        {
          "output_type": "stream",
          "text": [
            "\n"
          ],
          "name": "stdout"
        }
      ]
    },
    {
      "cell_type": "code",
      "metadata": {
        "colab": {
          "base_uri": "https://localhost:8080/"
        },
        "id": "UaFP7veXAsgn",
        "outputId": "d2496005-becc-4146-d46d-16fb8946e6d5"
      },
      "source": [
        "#write a program to print\n",
        "print()"
      ],
      "execution_count": 133,
      "outputs": [
        {
          "output_type": "stream",
          "text": [
            "\n"
          ],
          "name": "stdout"
        }
      ]
    },
    {
      "cell_type": "code",
      "metadata": {
        "colab": {
          "base_uri": "https://localhost:8080/"
        },
        "id": "3jRRWdG7Asgo",
        "outputId": "8494ceca-2c29-4cac-f7bd-888471587272"
      },
      "source": [
        "#write a program to print\n",
        "print()"
      ],
      "execution_count": 134,
      "outputs": [
        {
          "output_type": "stream",
          "text": [
            "\n"
          ],
          "name": "stdout"
        }
      ]
    },
    {
      "cell_type": "code",
      "metadata": {
        "colab": {
          "base_uri": "https://localhost:8080/"
        },
        "id": "Qo_UkaPQAsgo",
        "outputId": "3f80b192-5b2a-42f6-bf98-fdd966e2a6c2"
      },
      "source": [
        "#write a program to print\n",
        "print()"
      ],
      "execution_count": 135,
      "outputs": [
        {
          "output_type": "stream",
          "text": [
            "\n"
          ],
          "name": "stdout"
        }
      ]
    },
    {
      "cell_type": "code",
      "metadata": {
        "colab": {
          "base_uri": "https://localhost:8080/"
        },
        "id": "qd9KptZ4Asgo",
        "outputId": "1f14341c-373f-4835-fd84-025f9c362a18"
      },
      "source": [
        "#write a program to print\n",
        "print()"
      ],
      "execution_count": 136,
      "outputs": [
        {
          "output_type": "stream",
          "text": [
            "\n"
          ],
          "name": "stdout"
        }
      ]
    },
    {
      "cell_type": "code",
      "metadata": {
        "colab": {
          "base_uri": "https://localhost:8080/"
        },
        "id": "YIhaKWD4Asgo",
        "outputId": "ed52df55-f0b9-4eae-d9be-23becfe953a0"
      },
      "source": [
        "#write a program to print\n",
        "print()"
      ],
      "execution_count": 137,
      "outputs": [
        {
          "output_type": "stream",
          "text": [
            "\n"
          ],
          "name": "stdout"
        }
      ]
    },
    {
      "cell_type": "code",
      "metadata": {
        "colab": {
          "base_uri": "https://localhost:8080/"
        },
        "id": "PDHLQDSFAsgo",
        "outputId": "496b9756-89b0-4b9e-b8f8-354dbbf3087b"
      },
      "source": [
        "#write a program to print\n",
        "print()"
      ],
      "execution_count": 138,
      "outputs": [
        {
          "output_type": "stream",
          "text": [
            "\n"
          ],
          "name": "stdout"
        }
      ]
    },
    {
      "cell_type": "code",
      "metadata": {
        "colab": {
          "base_uri": "https://localhost:8080/"
        },
        "id": "EOPaUSlfAsgo",
        "outputId": "b4228d2a-92a7-4ffe-9ced-9bb0254a7871"
      },
      "source": [
        "#write a program to print\n",
        "print()"
      ],
      "execution_count": 139,
      "outputs": [
        {
          "output_type": "stream",
          "text": [
            "\n"
          ],
          "name": "stdout"
        }
      ]
    },
    {
      "cell_type": "code",
      "metadata": {
        "colab": {
          "base_uri": "https://localhost:8080/"
        },
        "id": "Ai-nZYL_Asgo",
        "outputId": "ec3c4f2a-bc29-4a32-cd84-3f8d0b13edb3"
      },
      "source": [
        "#write a program to print\n",
        "print()"
      ],
      "execution_count": 140,
      "outputs": [
        {
          "output_type": "stream",
          "text": [
            "\n"
          ],
          "name": "stdout"
        }
      ]
    },
    {
      "cell_type": "code",
      "metadata": {
        "colab": {
          "base_uri": "https://localhost:8080/"
        },
        "id": "qXF5ftirAsgp",
        "outputId": "9755d223-18ab-4190-a09f-7e397f7780da"
      },
      "source": [
        "#write a program to print\n",
        "print()"
      ],
      "execution_count": 141,
      "outputs": [
        {
          "output_type": "stream",
          "text": [
            "\n"
          ],
          "name": "stdout"
        }
      ]
    },
    {
      "cell_type": "code",
      "metadata": {
        "colab": {
          "base_uri": "https://localhost:8080/"
        },
        "id": "puo9mP0oAsgp",
        "outputId": "f7288d45-4a64-433f-f324-66a2dd4f50cb"
      },
      "source": [
        "#write a program to print\n",
        "print()"
      ],
      "execution_count": 142,
      "outputs": [
        {
          "output_type": "stream",
          "text": [
            "\n"
          ],
          "name": "stdout"
        }
      ]
    },
    {
      "cell_type": "code",
      "metadata": {
        "colab": {
          "base_uri": "https://localhost:8080/"
        },
        "id": "ncEwoi5wAsgp",
        "outputId": "27fba91e-2c63-4b97-ad72-9267450bf773"
      },
      "source": [
        "#write a program to print\n",
        "print()"
      ],
      "execution_count": 143,
      "outputs": [
        {
          "output_type": "stream",
          "text": [
            "\n"
          ],
          "name": "stdout"
        }
      ]
    },
    {
      "cell_type": "code",
      "metadata": {
        "colab": {
          "base_uri": "https://localhost:8080/"
        },
        "id": "jPlxfETlAsgp",
        "outputId": "d1562c3e-8162-4ca6-b7c2-09dc8b1c6f85"
      },
      "source": [
        "#write a program to print\n",
        "print()"
      ],
      "execution_count": 144,
      "outputs": [
        {
          "output_type": "stream",
          "text": [
            "\n"
          ],
          "name": "stdout"
        }
      ]
    },
    {
      "cell_type": "code",
      "metadata": {
        "colab": {
          "base_uri": "https://localhost:8080/"
        },
        "id": "lJbMlP1FAsgp",
        "outputId": "87858077-7d44-4042-cb56-5d5e22c6d75d"
      },
      "source": [
        "#write a program to print\n",
        "print()"
      ],
      "execution_count": 145,
      "outputs": [
        {
          "output_type": "stream",
          "text": [
            "\n"
          ],
          "name": "stdout"
        }
      ]
    },
    {
      "cell_type": "code",
      "metadata": {
        "colab": {
          "base_uri": "https://localhost:8080/"
        },
        "id": "s3N6pM-aAsgp",
        "outputId": "7a555bd2-63e5-4098-d20c-98e19e15c7d9"
      },
      "source": [
        "#write a program to print\n",
        "print()"
      ],
      "execution_count": 146,
      "outputs": [
        {
          "output_type": "stream",
          "text": [
            "\n"
          ],
          "name": "stdout"
        }
      ]
    },
    {
      "cell_type": "code",
      "metadata": {
        "colab": {
          "base_uri": "https://localhost:8080/"
        },
        "id": "KxUUUBMgAsgp",
        "outputId": "ab047bdb-a5a2-4c83-d2ef-01b662706611"
      },
      "source": [
        "#write a program to print\n",
        "print()"
      ],
      "execution_count": 147,
      "outputs": [
        {
          "output_type": "stream",
          "text": [
            "\n"
          ],
          "name": "stdout"
        }
      ]
    },
    {
      "cell_type": "code",
      "metadata": {
        "colab": {
          "base_uri": "https://localhost:8080/"
        },
        "id": "39kDWc_QAsgq",
        "outputId": "29f6b631-6c11-4f5c-e834-bb9b45964c40"
      },
      "source": [
        "#write a program to print\n",
        "print()"
      ],
      "execution_count": 148,
      "outputs": [
        {
          "output_type": "stream",
          "text": [
            "\n"
          ],
          "name": "stdout"
        }
      ]
    },
    {
      "cell_type": "code",
      "metadata": {
        "colab": {
          "base_uri": "https://localhost:8080/"
        },
        "id": "TcIT7aQuAspn",
        "outputId": "88a363f7-b27d-4241-a273-db2d9e767daf"
      },
      "source": [
        "#write a program to print\n",
        "print()"
      ],
      "execution_count": 149,
      "outputs": [
        {
          "output_type": "stream",
          "text": [
            "\n"
          ],
          "name": "stdout"
        }
      ]
    },
    {
      "cell_type": "code",
      "metadata": {
        "colab": {
          "base_uri": "https://localhost:8080/"
        },
        "id": "w57g1D-3Aspn",
        "outputId": "aca67942-8389-4c16-832c-b952352449e2"
      },
      "source": [
        "#write a program to print\n",
        "print()"
      ],
      "execution_count": 150,
      "outputs": [
        {
          "output_type": "stream",
          "text": [
            "\n"
          ],
          "name": "stdout"
        }
      ]
    },
    {
      "cell_type": "code",
      "metadata": {
        "colab": {
          "base_uri": "https://localhost:8080/"
        },
        "id": "sHAQjs32Aspo",
        "outputId": "7fd38ce6-88d8-498d-c9b8-7cf45b5215c6"
      },
      "source": [
        "#write a program to print\n",
        "print()"
      ],
      "execution_count": 151,
      "outputs": [
        {
          "output_type": "stream",
          "text": [
            "\n"
          ],
          "name": "stdout"
        }
      ]
    },
    {
      "cell_type": "code",
      "metadata": {
        "colab": {
          "base_uri": "https://localhost:8080/"
        },
        "id": "FgSCdhfAAspo",
        "outputId": "de7ed23a-d45a-49c7-bf40-0b36047f08bb"
      },
      "source": [
        "#write a program to print\n",
        "print()"
      ],
      "execution_count": 152,
      "outputs": [
        {
          "output_type": "stream",
          "text": [
            "\n"
          ],
          "name": "stdout"
        }
      ]
    },
    {
      "cell_type": "code",
      "metadata": {
        "colab": {
          "base_uri": "https://localhost:8080/"
        },
        "id": "DAqUhVNQAspo",
        "outputId": "05e89dc2-2c59-460e-b8c5-97f9c8735896"
      },
      "source": [
        "#write a program to print\n",
        "print()"
      ],
      "execution_count": 153,
      "outputs": [
        {
          "output_type": "stream",
          "text": [
            "\n"
          ],
          "name": "stdout"
        }
      ]
    },
    {
      "cell_type": "code",
      "metadata": {
        "colab": {
          "base_uri": "https://localhost:8080/"
        },
        "id": "j9N6yg3NAspo",
        "outputId": "1fd004d7-c170-4662-db35-fe2a06604516"
      },
      "source": [
        "#write a program to print\n",
        "print()"
      ],
      "execution_count": 154,
      "outputs": [
        {
          "output_type": "stream",
          "text": [
            "\n"
          ],
          "name": "stdout"
        }
      ]
    },
    {
      "cell_type": "code",
      "metadata": {
        "colab": {
          "base_uri": "https://localhost:8080/"
        },
        "id": "HVCxk19gAspo",
        "outputId": "25cec031-016a-46e5-9689-a45240982064"
      },
      "source": [
        "#write a program to print\n",
        "print()"
      ],
      "execution_count": 155,
      "outputs": [
        {
          "output_type": "stream",
          "text": [
            "\n"
          ],
          "name": "stdout"
        }
      ]
    },
    {
      "cell_type": "code",
      "metadata": {
        "colab": {
          "base_uri": "https://localhost:8080/"
        },
        "id": "uSUEwdHEAspo",
        "outputId": "1ac251b7-fc39-43f4-e360-ad5674eb5bd0"
      },
      "source": [
        "#write a program to print\n",
        "print()"
      ],
      "execution_count": 156,
      "outputs": [
        {
          "output_type": "stream",
          "text": [
            "\n"
          ],
          "name": "stdout"
        }
      ]
    },
    {
      "cell_type": "code",
      "metadata": {
        "colab": {
          "base_uri": "https://localhost:8080/"
        },
        "id": "NuSE-RDpAspo",
        "outputId": "417abbee-f5e4-43ed-867f-128b5187c506"
      },
      "source": [
        "#write a program to print\n",
        "print()"
      ],
      "execution_count": 157,
      "outputs": [
        {
          "output_type": "stream",
          "text": [
            "\n"
          ],
          "name": "stdout"
        }
      ]
    },
    {
      "cell_type": "code",
      "metadata": {
        "colab": {
          "base_uri": "https://localhost:8080/"
        },
        "id": "IgS1pd7PAspo",
        "outputId": "65b6dd0d-daaf-48e3-a29b-8926e32779f7"
      },
      "source": [
        "#write a program to print\n",
        "print()"
      ],
      "execution_count": 158,
      "outputs": [
        {
          "output_type": "stream",
          "text": [
            "\n"
          ],
          "name": "stdout"
        }
      ]
    },
    {
      "cell_type": "code",
      "metadata": {
        "colab": {
          "base_uri": "https://localhost:8080/"
        },
        "id": "6_AQa2doAspo",
        "outputId": "278056ef-e71b-43d5-e661-1ea9207bfea0"
      },
      "source": [
        "#write a program to print\n",
        "print()"
      ],
      "execution_count": 159,
      "outputs": [
        {
          "output_type": "stream",
          "text": [
            "\n"
          ],
          "name": "stdout"
        }
      ]
    },
    {
      "cell_type": "code",
      "metadata": {
        "colab": {
          "base_uri": "https://localhost:8080/"
        },
        "id": "_dywipIyAspp",
        "outputId": "d3082cc7-59b9-4464-cbf7-d58a186f20e8"
      },
      "source": [
        "#write a program to print\n",
        "print()"
      ],
      "execution_count": 160,
      "outputs": [
        {
          "output_type": "stream",
          "text": [
            "\n"
          ],
          "name": "stdout"
        }
      ]
    },
    {
      "cell_type": "code",
      "metadata": {
        "colab": {
          "base_uri": "https://localhost:8080/"
        },
        "id": "jFrq1Bj9Aspp",
        "outputId": "75a9a67a-4347-483a-cf84-d83d5c6d5ada"
      },
      "source": [
        "#write a program to print\n",
        "print()"
      ],
      "execution_count": 161,
      "outputs": [
        {
          "output_type": "stream",
          "text": [
            "\n"
          ],
          "name": "stdout"
        }
      ]
    },
    {
      "cell_type": "code",
      "metadata": {
        "colab": {
          "base_uri": "https://localhost:8080/"
        },
        "id": "iADvNdvaAspp",
        "outputId": "f930a09c-2fb1-48c4-da19-17854f854b5a"
      },
      "source": [
        "#write a program to print\n",
        "print()"
      ],
      "execution_count": 162,
      "outputs": [
        {
          "output_type": "stream",
          "text": [
            "\n"
          ],
          "name": "stdout"
        }
      ]
    },
    {
      "cell_type": "code",
      "metadata": {
        "colab": {
          "base_uri": "https://localhost:8080/"
        },
        "id": "4XWNRWeeAspp",
        "outputId": "d30663b5-969f-438d-8df9-7dcd9c590004"
      },
      "source": [
        "#write a program to print\n",
        "print()"
      ],
      "execution_count": 163,
      "outputs": [
        {
          "output_type": "stream",
          "text": [
            "\n"
          ],
          "name": "stdout"
        }
      ]
    },
    {
      "cell_type": "code",
      "metadata": {
        "colab": {
          "base_uri": "https://localhost:8080/"
        },
        "id": "AeEnLQxIAspq",
        "outputId": "9ba84bc3-0868-44b3-cca3-e952f741c2d5"
      },
      "source": [
        "#write a program to print\n",
        "print()"
      ],
      "execution_count": 164,
      "outputs": [
        {
          "output_type": "stream",
          "text": [
            "\n"
          ],
          "name": "stdout"
        }
      ]
    },
    {
      "cell_type": "code",
      "metadata": {
        "colab": {
          "base_uri": "https://localhost:8080/"
        },
        "id": "HfjboFb3AsxO",
        "outputId": "fabaa554-ac59-4a45-ba8a-a3f188f782a8"
      },
      "source": [
        "#write a program to print\n",
        "print()"
      ],
      "execution_count": 165,
      "outputs": [
        {
          "output_type": "stream",
          "text": [
            "\n"
          ],
          "name": "stdout"
        }
      ]
    },
    {
      "cell_type": "code",
      "metadata": {
        "colab": {
          "base_uri": "https://localhost:8080/"
        },
        "id": "gHMLC1IBAsxP",
        "outputId": "33dc628c-de16-45ec-c9f9-0e2126638ed2"
      },
      "source": [
        "#write a program to print\n",
        "print()"
      ],
      "execution_count": 166,
      "outputs": [
        {
          "output_type": "stream",
          "text": [
            "\n"
          ],
          "name": "stdout"
        }
      ]
    },
    {
      "cell_type": "code",
      "metadata": {
        "colab": {
          "base_uri": "https://localhost:8080/"
        },
        "id": "gVc4Y3MUAsxP",
        "outputId": "1b00e8d4-0f5e-40bd-b0b8-1d4bdc62b6af"
      },
      "source": [
        "#write a program to print\n",
        "print()"
      ],
      "execution_count": 167,
      "outputs": [
        {
          "output_type": "stream",
          "text": [
            "\n"
          ],
          "name": "stdout"
        }
      ]
    },
    {
      "cell_type": "code",
      "metadata": {
        "colab": {
          "base_uri": "https://localhost:8080/"
        },
        "id": "HQJk-x6AAsxP",
        "outputId": "3af9da17-1192-42a0-dc65-67a681723a07"
      },
      "source": [
        "#write a program to print\n",
        "print()"
      ],
      "execution_count": 168,
      "outputs": [
        {
          "output_type": "stream",
          "text": [
            "\n"
          ],
          "name": "stdout"
        }
      ]
    },
    {
      "cell_type": "code",
      "metadata": {
        "colab": {
          "base_uri": "https://localhost:8080/"
        },
        "id": "vdXSN3iKAsxP",
        "outputId": "01305f95-dd6c-4a44-be08-7ab004d3a6ac"
      },
      "source": [
        "#write a program to print\n",
        "print()"
      ],
      "execution_count": 169,
      "outputs": [
        {
          "output_type": "stream",
          "text": [
            "\n"
          ],
          "name": "stdout"
        }
      ]
    },
    {
      "cell_type": "code",
      "metadata": {
        "colab": {
          "base_uri": "https://localhost:8080/"
        },
        "id": "iss2ssphAsxP",
        "outputId": "0a539b6b-2063-4121-90ef-e1b868b7cb24"
      },
      "source": [
        "#write a program to print\n",
        "print()"
      ],
      "execution_count": 170,
      "outputs": [
        {
          "output_type": "stream",
          "text": [
            "\n"
          ],
          "name": "stdout"
        }
      ]
    },
    {
      "cell_type": "code",
      "metadata": {
        "colab": {
          "base_uri": "https://localhost:8080/"
        },
        "id": "atOTJyE6AsxP",
        "outputId": "b9f46ff7-2a6e-44ce-e71e-a302277bae2a"
      },
      "source": [
        "#write a program to print\n",
        "print()"
      ],
      "execution_count": 171,
      "outputs": [
        {
          "output_type": "stream",
          "text": [
            "\n"
          ],
          "name": "stdout"
        }
      ]
    },
    {
      "cell_type": "code",
      "metadata": {
        "colab": {
          "base_uri": "https://localhost:8080/"
        },
        "id": "n9_lWY1SAsxP",
        "outputId": "59eeb9a5-8ab8-422b-db40-326980f69064"
      },
      "source": [
        "#write a program to print\n",
        "print()"
      ],
      "execution_count": 172,
      "outputs": [
        {
          "output_type": "stream",
          "text": [
            "\n"
          ],
          "name": "stdout"
        }
      ]
    },
    {
      "cell_type": "code",
      "metadata": {
        "colab": {
          "base_uri": "https://localhost:8080/"
        },
        "id": "Ll5Z13uMAsxP",
        "outputId": "34eedcf3-b9ba-4cb6-c274-b6d1cf4cec89"
      },
      "source": [
        "#write a program to print\n",
        "print()"
      ],
      "execution_count": 173,
      "outputs": [
        {
          "output_type": "stream",
          "text": [
            "\n"
          ],
          "name": "stdout"
        }
      ]
    },
    {
      "cell_type": "code",
      "metadata": {
        "colab": {
          "base_uri": "https://localhost:8080/"
        },
        "id": "4YxzPFsUAsxQ",
        "outputId": "33a80506-c133-4e1a-c44c-9105b4d894b2"
      },
      "source": [
        "#write a program to print\n",
        "print()"
      ],
      "execution_count": 174,
      "outputs": [
        {
          "output_type": "stream",
          "text": [
            "\n"
          ],
          "name": "stdout"
        }
      ]
    },
    {
      "cell_type": "code",
      "metadata": {
        "colab": {
          "base_uri": "https://localhost:8080/"
        },
        "id": "_-AJxT2NAsxQ",
        "outputId": "d7d233ba-a319-40fd-f8c6-c9d6df766d8b"
      },
      "source": [
        "#write a program to print\n",
        "print()"
      ],
      "execution_count": 175,
      "outputs": [
        {
          "output_type": "stream",
          "text": [
            "\n"
          ],
          "name": "stdout"
        }
      ]
    },
    {
      "cell_type": "code",
      "metadata": {
        "colab": {
          "base_uri": "https://localhost:8080/"
        },
        "id": "946-YOApAsxQ",
        "outputId": "6d1da55d-dc0d-436a-f5c7-28b20fa43f92"
      },
      "source": [
        "#write a program to print\n",
        "print()"
      ],
      "execution_count": 176,
      "outputs": [
        {
          "output_type": "stream",
          "text": [
            "\n"
          ],
          "name": "stdout"
        }
      ]
    },
    {
      "cell_type": "code",
      "metadata": {
        "colab": {
          "base_uri": "https://localhost:8080/"
        },
        "id": "-CTLzxlJAsxQ",
        "outputId": "fc15a0fe-1873-4fe3-c382-295a1bd90a70"
      },
      "source": [
        "#write a program to print\n",
        "print()"
      ],
      "execution_count": 177,
      "outputs": [
        {
          "output_type": "stream",
          "text": [
            "\n"
          ],
          "name": "stdout"
        }
      ]
    },
    {
      "cell_type": "code",
      "metadata": {
        "colab": {
          "base_uri": "https://localhost:8080/"
        },
        "id": "AudvrcJeAsxQ",
        "outputId": "339361c8-0854-4f97-9cd0-e4ff4574512d"
      },
      "source": [
        "#write a program to print\n",
        "print()"
      ],
      "execution_count": 178,
      "outputs": [
        {
          "output_type": "stream",
          "text": [
            "\n"
          ],
          "name": "stdout"
        }
      ]
    },
    {
      "cell_type": "code",
      "metadata": {
        "colab": {
          "base_uri": "https://localhost:8080/"
        },
        "id": "Mma_cUZLAsxQ",
        "outputId": "fe0afdef-1f65-4cd6-a550-fd6b5f8471e6"
      },
      "source": [
        "#write a program to print\n",
        "print()"
      ],
      "execution_count": 179,
      "outputs": [
        {
          "output_type": "stream",
          "text": [
            "\n"
          ],
          "name": "stdout"
        }
      ]
    },
    {
      "cell_type": "code",
      "metadata": {
        "colab": {
          "base_uri": "https://localhost:8080/"
        },
        "id": "tBlQXwkNAsxQ",
        "outputId": "330e37a1-3f64-4b15-bc82-c2cac8e6d6cd"
      },
      "source": [
        "#write a program to print\n",
        "print()"
      ],
      "execution_count": 180,
      "outputs": [
        {
          "output_type": "stream",
          "text": [
            "\n"
          ],
          "name": "stdout"
        }
      ]
    },
    {
      "cell_type": "code",
      "metadata": {
        "colab": {
          "base_uri": "https://localhost:8080/"
        },
        "id": "GFnUfow3As4A",
        "outputId": "2d2758dd-dc3c-43c0-caf7-262b4de7f295"
      },
      "source": [
        "#write a program to print\n",
        "print()"
      ],
      "execution_count": 181,
      "outputs": [
        {
          "output_type": "stream",
          "text": [
            "\n"
          ],
          "name": "stdout"
        }
      ]
    },
    {
      "cell_type": "code",
      "metadata": {
        "colab": {
          "base_uri": "https://localhost:8080/"
        },
        "id": "rKqbd3K6As4A",
        "outputId": "00b15c9f-9db3-42fd-a513-e8104d45e958"
      },
      "source": [
        "#write a program to print\n",
        "print()"
      ],
      "execution_count": 182,
      "outputs": [
        {
          "output_type": "stream",
          "text": [
            "\n"
          ],
          "name": "stdout"
        }
      ]
    },
    {
      "cell_type": "code",
      "metadata": {
        "colab": {
          "base_uri": "https://localhost:8080/"
        },
        "id": "9LDsG9uQAs4A",
        "outputId": "ab03b5e9-1b54-4ae2-953c-6f529f66442c"
      },
      "source": [
        "#write a program to print\n",
        "print()"
      ],
      "execution_count": 183,
      "outputs": [
        {
          "output_type": "stream",
          "text": [
            "\n"
          ],
          "name": "stdout"
        }
      ]
    },
    {
      "cell_type": "code",
      "metadata": {
        "colab": {
          "base_uri": "https://localhost:8080/"
        },
        "id": "dvoiapyvAs4A",
        "outputId": "dcee22ca-f281-49ea-c16e-246ecfe2cebc"
      },
      "source": [
        "#write a program to print\n",
        "print()"
      ],
      "execution_count": 184,
      "outputs": [
        {
          "output_type": "stream",
          "text": [
            "\n"
          ],
          "name": "stdout"
        }
      ]
    },
    {
      "cell_type": "code",
      "metadata": {
        "colab": {
          "base_uri": "https://localhost:8080/"
        },
        "id": "3Ft1Jn3gAs4B",
        "outputId": "7541cc31-b8bb-4af9-c7f9-9f25f4e2496c"
      },
      "source": [
        "#write a program to print\n",
        "print()"
      ],
      "execution_count": 185,
      "outputs": [
        {
          "output_type": "stream",
          "text": [
            "\n"
          ],
          "name": "stdout"
        }
      ]
    },
    {
      "cell_type": "code",
      "metadata": {
        "colab": {
          "base_uri": "https://localhost:8080/"
        },
        "id": "XJZZm9qgAs4B",
        "outputId": "6fca10c4-c872-4ea9-8b1f-5a5ed49bc4a1"
      },
      "source": [
        "#write a program to print\n",
        "print()"
      ],
      "execution_count": 186,
      "outputs": [
        {
          "output_type": "stream",
          "text": [
            "\n"
          ],
          "name": "stdout"
        }
      ]
    },
    {
      "cell_type": "code",
      "metadata": {
        "colab": {
          "base_uri": "https://localhost:8080/"
        },
        "id": "h0GfWChNAs4B",
        "outputId": "eca952e9-5f8a-4179-c184-c4a83ee7ad12"
      },
      "source": [
        "#write a program to print\n",
        "print()"
      ],
      "execution_count": 187,
      "outputs": [
        {
          "output_type": "stream",
          "text": [
            "\n"
          ],
          "name": "stdout"
        }
      ]
    },
    {
      "cell_type": "code",
      "metadata": {
        "colab": {
          "base_uri": "https://localhost:8080/"
        },
        "id": "0KC1XJ2yAs4G",
        "outputId": "7fd33a32-a7b6-4450-af7e-64003f13097e"
      },
      "source": [
        "#write a program to print\n",
        "print()"
      ],
      "execution_count": 188,
      "outputs": [
        {
          "output_type": "stream",
          "text": [
            "\n"
          ],
          "name": "stdout"
        }
      ]
    },
    {
      "cell_type": "code",
      "metadata": {
        "colab": {
          "base_uri": "https://localhost:8080/"
        },
        "id": "QLWH_UUjAs4G",
        "outputId": "c2b37f96-abb3-4934-88d6-10cf0cd7ea4e"
      },
      "source": [
        "#write a program to print\n",
        "print()"
      ],
      "execution_count": 189,
      "outputs": [
        {
          "output_type": "stream",
          "text": [
            "\n"
          ],
          "name": "stdout"
        }
      ]
    },
    {
      "cell_type": "code",
      "metadata": {
        "colab": {
          "base_uri": "https://localhost:8080/"
        },
        "id": "VsQ4KF49As4G",
        "outputId": "3a7050bc-4217-4372-c1fc-bfa13394de1b"
      },
      "source": [
        "#write a program to print\n",
        "print()"
      ],
      "execution_count": 190,
      "outputs": [
        {
          "output_type": "stream",
          "text": [
            "\n"
          ],
          "name": "stdout"
        }
      ]
    },
    {
      "cell_type": "code",
      "metadata": {
        "colab": {
          "base_uri": "https://localhost:8080/"
        },
        "id": "P9loc7A3As4G",
        "outputId": "622c6be8-f52f-472f-b9a3-cf8b489c9f10"
      },
      "source": [
        "#write a program to print\n",
        "print()"
      ],
      "execution_count": 191,
      "outputs": [
        {
          "output_type": "stream",
          "text": [
            "\n"
          ],
          "name": "stdout"
        }
      ]
    },
    {
      "cell_type": "code",
      "metadata": {
        "colab": {
          "base_uri": "https://localhost:8080/"
        },
        "id": "UAvOWA7RAs4G",
        "outputId": "8eccdbb3-3dc4-4d0d-9061-7fe670bc986c"
      },
      "source": [
        "#write a program to print\n",
        "print()"
      ],
      "execution_count": 192,
      "outputs": [
        {
          "output_type": "stream",
          "text": [
            "\n"
          ],
          "name": "stdout"
        }
      ]
    },
    {
      "cell_type": "code",
      "metadata": {
        "colab": {
          "base_uri": "https://localhost:8080/"
        },
        "id": "PseuehGZAs4G",
        "outputId": "369e0b0e-9865-4193-dcf4-e5b84554ac17"
      },
      "source": [
        "#write a program to print\n",
        "print()"
      ],
      "execution_count": 193,
      "outputs": [
        {
          "output_type": "stream",
          "text": [
            "\n"
          ],
          "name": "stdout"
        }
      ]
    },
    {
      "cell_type": "code",
      "metadata": {
        "colab": {
          "base_uri": "https://localhost:8080/"
        },
        "id": "7CpzYfVgAs4G",
        "outputId": "2a4c1d32-df1f-45b9-c67a-78a470e2bf89"
      },
      "source": [
        "#write a program to print\n",
        "print()"
      ],
      "execution_count": 194,
      "outputs": [
        {
          "output_type": "stream",
          "text": [
            "\n"
          ],
          "name": "stdout"
        }
      ]
    },
    {
      "cell_type": "code",
      "metadata": {
        "colab": {
          "base_uri": "https://localhost:8080/"
        },
        "id": "ZdjKMoClAs4G",
        "outputId": "49efbb37-4a4d-4d5c-a636-7766bb06e607"
      },
      "source": [
        "#write a program to print\n",
        "print()"
      ],
      "execution_count": 195,
      "outputs": [
        {
          "output_type": "stream",
          "text": [
            "\n"
          ],
          "name": "stdout"
        }
      ]
    },
    {
      "cell_type": "code",
      "metadata": {
        "colab": {
          "base_uri": "https://localhost:8080/"
        },
        "id": "5r8kdMIsAs4G",
        "outputId": "1041f4af-0ac8-487d-d92f-9de41d6faf0b"
      },
      "source": [
        "#write a program to print\n",
        "print()"
      ],
      "execution_count": 196,
      "outputs": [
        {
          "output_type": "stream",
          "text": [
            "\n"
          ],
          "name": "stdout"
        }
      ]
    }
  ]
}